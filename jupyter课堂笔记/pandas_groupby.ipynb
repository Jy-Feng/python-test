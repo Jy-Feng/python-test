{
 "cells": [
  {
   "cell_type": "code",
   "execution_count": 1,
   "metadata": {},
   "outputs": [],
   "source": [
    "#拆分\n",
    "#应用\n",
    "#合并 \n",
    "# mysql 数据库关键字 ：group by\n",
    "import pandas as pd\n",
    "import numpy as np"
   ]
  },
  {
   "cell_type": "code",
   "execution_count": 28,
   "metadata": {},
   "outputs": [],
   "source": [
    "#分组操作\n",
    "df1 = pd.DataFrame({\"key\":[\"a\",\"b\",\"c\",\"d\",\"a\",\"b\",\"c\",\"c\",\"a\",\"b\"],\"A\":[1,2,3,4,5,6,7,8,9,10],\"B\":[10,20,30,40,50,60,70,80,90,100]})\n",
    "#通过某列进行分组\n",
    "groupby_column = df1.groupby(by=\"key\")"
   ]
  },
  {
   "cell_type": "code",
   "execution_count": 6,
   "metadata": {},
   "outputs": [
    {
     "name": "stdout",
     "output_type": "stream",
     "text": [
      "('a',   key  A\n",
      "0   a  1\n",
      "4   a  5\n",
      "8   a  9)\n",
      "('b',   key   A\n",
      "1   b   2\n",
      "5   b   6\n",
      "9   b  10)\n",
      "('c',   key  A\n",
      "2   c  3\n",
      "6   c  7\n",
      "7   c  8)\n",
      "('d',   key  A\n",
      "3   d  4)\n"
     ]
    }
   ],
   "source": [
    "#认识分组对象\n",
    "#可以迭代，可以遍历\n",
    "#分组对象遍历时，每一个item为一个元组，该元组种有个两个元素，\n",
    "#第一个元素为分组名，第二个就是该分组中的数据集（子dataframe对象）\n",
    "for item in groupby_column:\n",
    "    print(item)"
   ]
  },
  {
   "cell_type": "code",
   "execution_count": 8,
   "metadata": {
    "scrolled": false
   },
   "outputs": [
    {
     "name": "stdout",
     "output_type": "stream",
     "text": [
      "a\n",
      "  key  A\n",
      "0   a  1\n",
      "4   a  5\n",
      "8   a  9\n",
      "b\n",
      "  key   A\n",
      "1   b   2\n",
      "5   b   6\n",
      "9   b  10\n",
      "c\n",
      "  key  A\n",
      "2   c  3\n",
      "6   c  7\n",
      "7   c  8\n",
      "d\n",
      "  key  A\n",
      "3   d  4\n"
     ]
    }
   ],
   "source": [
    "for x,y in groupby_column:\n",
    "    print(x)\n",
    "    print(y)"
   ]
  },
  {
   "cell_type": "code",
   "execution_count": 10,
   "metadata": {},
   "outputs": [
    {
     "data": {
      "text/plain": [
       "1"
      ]
     },
     "execution_count": 10,
     "metadata": {},
     "output_type": "execute_result"
    }
   ],
   "source": [
    "# python全局内置函数dict()\n",
    "#使用dict(元组列表)构建字典\n",
    "dict1 = dict([(\"a\",1),(\"b\",2),(\"c\",3)])\n",
    "#通过字典的key找value\n",
    "dict1[\"a\"]"
   ]
  },
  {
   "cell_type": "code",
   "execution_count": 13,
   "metadata": {},
   "outputs": [
    {
     "data": {
      "text/html": [
       "<div>\n",
       "<style scoped>\n",
       "    .dataframe tbody tr th:only-of-type {\n",
       "        vertical-align: middle;\n",
       "    }\n",
       "\n",
       "    .dataframe tbody tr th {\n",
       "        vertical-align: top;\n",
       "    }\n",
       "\n",
       "    .dataframe thead th {\n",
       "        text-align: right;\n",
       "    }\n",
       "</style>\n",
       "<table border=\"1\" class=\"dataframe\">\n",
       "  <thead>\n",
       "    <tr style=\"text-align: right;\">\n",
       "      <th></th>\n",
       "      <th>key</th>\n",
       "      <th>A</th>\n",
       "    </tr>\n",
       "  </thead>\n",
       "  <tbody>\n",
       "    <tr>\n",
       "      <th>1</th>\n",
       "      <td>b</td>\n",
       "      <td>2</td>\n",
       "    </tr>\n",
       "    <tr>\n",
       "      <th>5</th>\n",
       "      <td>b</td>\n",
       "      <td>6</td>\n",
       "    </tr>\n",
       "    <tr>\n",
       "      <th>9</th>\n",
       "      <td>b</td>\n",
       "      <td>10</td>\n",
       "    </tr>\n",
       "  </tbody>\n",
       "</table>\n",
       "</div>"
      ],
      "text/plain": [
       "  key   A\n",
       "1   b   2\n",
       "5   b   6\n",
       "9   b  10"
      ]
     },
     "execution_count": 13,
     "metadata": {},
     "output_type": "execute_result"
    }
   ],
   "source": [
    "#通过列表推导式来构建分组对象的数据结构（字典）\n",
    "#构造出一个元组列表，该元组中第一个元素就是分组名，第二个元素就是该分组的数据集，dataframe\n",
    "list1 = [(x,y) for x,y in groupby_column]\n",
    "#通过构造一个字典\n",
    "dict2 = dict(list1)\n",
    "#索引a分组的数据集，dataframe对象\n",
    "dict2[\"b\"]"
   ]
  },
  {
   "cell_type": "code",
   "execution_count": 16,
   "metadata": {},
   "outputs": [
    {
     "data": {
      "text/html": [
       "<div>\n",
       "<style scoped>\n",
       "    .dataframe tbody tr th:only-of-type {\n",
       "        vertical-align: middle;\n",
       "    }\n",
       "\n",
       "    .dataframe tbody tr th {\n",
       "        vertical-align: top;\n",
       "    }\n",
       "\n",
       "    .dataframe thead th {\n",
       "        text-align: right;\n",
       "    }\n",
       "</style>\n",
       "<table border=\"1\" class=\"dataframe\">\n",
       "  <thead>\n",
       "    <tr style=\"text-align: right;\">\n",
       "      <th></th>\n",
       "      <th>key</th>\n",
       "      <th>A</th>\n",
       "    </tr>\n",
       "  </thead>\n",
       "  <tbody>\n",
       "    <tr>\n",
       "      <th>0</th>\n",
       "      <td>a</td>\n",
       "      <td>1</td>\n",
       "    </tr>\n",
       "    <tr>\n",
       "      <th>4</th>\n",
       "      <td>a</td>\n",
       "      <td>5</td>\n",
       "    </tr>\n",
       "    <tr>\n",
       "      <th>8</th>\n",
       "      <td>a</td>\n",
       "      <td>9</td>\n",
       "    </tr>\n",
       "  </tbody>\n",
       "</table>\n",
       "</div>"
      ],
      "text/plain": [
       "  key  A\n",
       "0   a  1\n",
       "4   a  5\n",
       "8   a  9"
      ]
     },
     "execution_count": 16,
     "metadata": {},
     "output_type": "execute_result"
    }
   ],
   "source": [
    "#bool索引也可以做同样的事 筛选key==\"a\"的数据集\n",
    "df1[df1[\"key\"] == \"a\"]"
   ]
  },
  {
   "cell_type": "code",
   "execution_count": 20,
   "metadata": {},
   "outputs": [
    {
     "name": "stdout",
     "output_type": "stream",
     "text": [
      "e\n",
      "  key   A\n",
      "0   a   1\n",
      "4   a   5\n",
      "8   a   9\n",
      "9   b  10\n",
      "f\n",
      "  key  A\n",
      "1   b  2\n",
      "5   b  6\n",
      "g\n",
      "  key  A\n",
      "2   c  3\n",
      "6   c  7\n",
      "h\n",
      "  key  A\n",
      "3   d  4\n",
      "7   c  8\n"
     ]
    }
   ],
   "source": [
    "#通过一个列表进行分组\n",
    "#感觉上相当于将list2加到df1中作为一列,然后再争对这一列进行分组，list2中相同的元素作为分组名\n",
    "list2 = [\"e\",\"f\",\"g\",\"h\",\"e\",\"f\",\"g\",\"h\",\"e\",\"e\"]\n",
    "groupby_list = df1.groupby(by=list2)\n",
    "for x,y in groupby_list:\n",
    "    print(x)\n",
    "    print(y)"
   ]
  },
  {
   "cell_type": "code",
   "execution_count": 21,
   "metadata": {},
   "outputs": [
    {
     "name": "stdout",
     "output_type": "stream",
     "text": [
      "e\n",
      "  key  A\n",
      "0   a  1\n",
      "4   a  5\n",
      "f\n",
      "  key  A\n",
      "1   b  2\n",
      "5   b  6\n",
      "g\n",
      "  key  A\n",
      "2   c  3\n",
      "h\n",
      "  key  A\n",
      "3   d  4\n"
     ]
    }
   ],
   "source": [
    "#通过series对象来分组\n",
    "#相当于，使用series对象的索引来筛选一下df1，再分组\n",
    "series1 = pd.Series([\"e\",\"f\",\"g\",\"h\",\"e\",\"f\"])\n",
    "groupby_series = df1.groupby(by=series1)\n",
    "for x,y in groupby_series:\n",
    "    print(x)\n",
    "    print(y)"
   ]
  },
  {
   "cell_type": "code",
   "execution_count": 22,
   "metadata": {},
   "outputs": [
    {
     "data": {
      "text/html": [
       "<div>\n",
       "<style scoped>\n",
       "    .dataframe tbody tr th:only-of-type {\n",
       "        vertical-align: middle;\n",
       "    }\n",
       "\n",
       "    .dataframe tbody tr th {\n",
       "        vertical-align: top;\n",
       "    }\n",
       "\n",
       "    .dataframe thead th {\n",
       "        text-align: right;\n",
       "    }\n",
       "</style>\n",
       "<table border=\"1\" class=\"dataframe\">\n",
       "  <thead>\n",
       "    <tr style=\"text-align: right;\">\n",
       "      <th></th>\n",
       "      <th>A</th>\n",
       "    </tr>\n",
       "    <tr>\n",
       "      <th>key</th>\n",
       "      <th></th>\n",
       "    </tr>\n",
       "  </thead>\n",
       "  <tbody>\n",
       "    <tr>\n",
       "      <th>a</th>\n",
       "      <td>3</td>\n",
       "    </tr>\n",
       "    <tr>\n",
       "      <th>b</th>\n",
       "      <td>3</td>\n",
       "    </tr>\n",
       "    <tr>\n",
       "      <th>c</th>\n",
       "      <td>3</td>\n",
       "    </tr>\n",
       "    <tr>\n",
       "      <th>d</th>\n",
       "      <td>1</td>\n",
       "    </tr>\n",
       "  </tbody>\n",
       "</table>\n",
       "</div>"
      ],
      "text/plain": [
       "     A\n",
       "key   \n",
       "a    3\n",
       "b    3\n",
       "c    3\n",
       "d    1"
      ]
     },
     "execution_count": 22,
     "metadata": {},
     "output_type": "execute_result"
    }
   ],
   "source": [
    "#聚合\n",
    "#使用聚合函数对分组对象操作\n",
    "#count() 统计的是不NaN的记录数\n",
    "#max()最大值，min()最小值，mean()平均值, sum()求算数和，std()标准差, describe()\n",
    "#聚合之后的新的dataframe的结构：行索引就是分组名的集合\n",
    "#{\"key\":[\"a\",\"b\",\"c\",\"d\",\"a\",\"b\",\"c\",\"c\",\"a\",\"b\"],\"A\":[1,2,3,4,5,6,7,8,9,10]}\n",
    "groupby_df = groupby_column.count()"
   ]
  },
  {
   "cell_type": "code",
   "execution_count": 29,
   "metadata": {},
   "outputs": [
    {
     "data": {
      "text/html": [
       "<div>\n",
       "<style scoped>\n",
       "    .dataframe tbody tr th:only-of-type {\n",
       "        vertical-align: middle;\n",
       "    }\n",
       "\n",
       "    .dataframe tbody tr th {\n",
       "        vertical-align: top;\n",
       "    }\n",
       "\n",
       "    .dataframe thead th {\n",
       "        text-align: right;\n",
       "    }\n",
       "</style>\n",
       "<table border=\"1\" class=\"dataframe\">\n",
       "  <thead>\n",
       "    <tr style=\"text-align: right;\">\n",
       "      <th></th>\n",
       "      <th>A</th>\n",
       "      <th>B</th>\n",
       "    </tr>\n",
       "    <tr>\n",
       "      <th>key</th>\n",
       "      <th></th>\n",
       "      <th></th>\n",
       "    </tr>\n",
       "  </thead>\n",
       "  <tbody>\n",
       "    <tr>\n",
       "      <th>a</th>\n",
       "      <td>1</td>\n",
       "      <td>10</td>\n",
       "    </tr>\n",
       "    <tr>\n",
       "      <th>b</th>\n",
       "      <td>2</td>\n",
       "      <td>20</td>\n",
       "    </tr>\n",
       "    <tr>\n",
       "      <th>c</th>\n",
       "      <td>3</td>\n",
       "      <td>30</td>\n",
       "    </tr>\n",
       "    <tr>\n",
       "      <th>d</th>\n",
       "      <td>4</td>\n",
       "      <td>40</td>\n",
       "    </tr>\n",
       "  </tbody>\n",
       "</table>\n",
       "</div>"
      ],
      "text/plain": [
       "     A   B\n",
       "key       \n",
       "a    1  10\n",
       "b    2  20\n",
       "c    3  30\n",
       "d    4  40"
      ]
     },
     "execution_count": 29,
     "metadata": {},
     "output_type": "execute_result"
    }
   ],
   "source": [
    "#{\"key\":[\"a\",\"b\",\"c\",\"d\",\"a\",\"b\",\"c\",\"c\",\"a\",\"b\"],\"A\":[1,2,3,4,5,6,7,8,9,10]}\n",
    "groupby_column.min()"
   ]
  },
  {
   "cell_type": "code",
   "execution_count": 30,
   "metadata": {},
   "outputs": [
    {
     "data": {
      "text/html": [
       "<div>\n",
       "<style scoped>\n",
       "    .dataframe tbody tr th:only-of-type {\n",
       "        vertical-align: middle;\n",
       "    }\n",
       "\n",
       "    .dataframe tbody tr th {\n",
       "        vertical-align: top;\n",
       "    }\n",
       "\n",
       "    .dataframe thead th {\n",
       "        text-align: right;\n",
       "    }\n",
       "</style>\n",
       "<table border=\"1\" class=\"dataframe\">\n",
       "  <thead>\n",
       "    <tr style=\"text-align: right;\">\n",
       "      <th></th>\n",
       "      <th>A</th>\n",
       "      <th>B</th>\n",
       "    </tr>\n",
       "    <tr>\n",
       "      <th>key</th>\n",
       "      <th></th>\n",
       "      <th></th>\n",
       "    </tr>\n",
       "  </thead>\n",
       "  <tbody>\n",
       "    <tr>\n",
       "      <th>a</th>\n",
       "      <td>9</td>\n",
       "      <td>90</td>\n",
       "    </tr>\n",
       "    <tr>\n",
       "      <th>b</th>\n",
       "      <td>10</td>\n",
       "      <td>100</td>\n",
       "    </tr>\n",
       "    <tr>\n",
       "      <th>c</th>\n",
       "      <td>8</td>\n",
       "      <td>80</td>\n",
       "    </tr>\n",
       "    <tr>\n",
       "      <th>d</th>\n",
       "      <td>4</td>\n",
       "      <td>40</td>\n",
       "    </tr>\n",
       "  </tbody>\n",
       "</table>\n",
       "</div>"
      ],
      "text/plain": [
       "      A    B\n",
       "key         \n",
       "a     9   90\n",
       "b    10  100\n",
       "c     8   80\n",
       "d     4   40"
      ]
     },
     "execution_count": 30,
     "metadata": {},
     "output_type": "execute_result"
    }
   ],
   "source": [
    "#groupby.agg(func) aggregate(func) func可以是函数名（字符串），也可以是函数\n",
    "#使用内置函数\n",
    "groupby_column.agg(max)"
   ]
  },
  {
   "cell_type": "code",
   "execution_count": 33,
   "metadata": {},
   "outputs": [
    {
     "data": {
      "text/html": [
       "<div>\n",
       "<style scoped>\n",
       "    .dataframe tbody tr th:only-of-type {\n",
       "        vertical-align: middle;\n",
       "    }\n",
       "\n",
       "    .dataframe tbody tr th {\n",
       "        vertical-align: top;\n",
       "    }\n",
       "\n",
       "    .dataframe thead th {\n",
       "        text-align: right;\n",
       "    }\n",
       "</style>\n",
       "<table border=\"1\" class=\"dataframe\">\n",
       "  <thead>\n",
       "    <tr style=\"text-align: right;\">\n",
       "      <th></th>\n",
       "      <th>A</th>\n",
       "      <th>B</th>\n",
       "    </tr>\n",
       "    <tr>\n",
       "      <th>key</th>\n",
       "      <th></th>\n",
       "      <th></th>\n",
       "    </tr>\n",
       "  </thead>\n",
       "  <tbody>\n",
       "    <tr>\n",
       "      <th>a</th>\n",
       "      <td>8</td>\n",
       "      <td>80</td>\n",
       "    </tr>\n",
       "    <tr>\n",
       "      <th>b</th>\n",
       "      <td>8</td>\n",
       "      <td>80</td>\n",
       "    </tr>\n",
       "    <tr>\n",
       "      <th>c</th>\n",
       "      <td>5</td>\n",
       "      <td>50</td>\n",
       "    </tr>\n",
       "    <tr>\n",
       "      <th>d</th>\n",
       "      <td>0</td>\n",
       "      <td>0</td>\n",
       "    </tr>\n",
       "  </tbody>\n",
       "</table>\n",
       "</div>"
      ],
      "text/plain": [
       "     A   B\n",
       "key       \n",
       "a    8  80\n",
       "b    8  80\n",
       "c    5  50\n",
       "d    0   0"
      ]
     },
     "execution_count": 33,
     "metadata": {},
     "output_type": "execute_result"
    }
   ],
   "source": [
    "#自定义函数求极差，最大值-最小值\n",
    "def max_min(series):\n",
    "    return series.max()-series.min()\n",
    "#agg传递了一个自定义的函数\n",
    "groupby_column.agg(max_min)"
   ]
  },
  {
   "cell_type": "code",
   "execution_count": 34,
   "metadata": {},
   "outputs": [],
   "source": [
    "#练习，使用雇员表的数据，求各职位job的员工的平均薪资salary\n",
    "#创建dataframe\n",
    "employee_df = pd.read_excel(\"./data/employee.xlsx\")"
   ]
  },
  {
   "cell_type": "code",
   "execution_count": 37,
   "metadata": {},
   "outputs": [],
   "source": [
    "#对job列分组，对每个分组的所有列的记录求平均值\n",
    "salary_df = employee_df.groupby(by=\"job\").mean()\n",
    "#把不要的列删除\n",
    "del salary_df[\"id\"]\n",
    "del salary_df[\"level\"]\n",
    "del salary_df[\"bonus\"]"
   ]
  },
  {
   "cell_type": "code",
   "execution_count": 38,
   "metadata": {},
   "outputs": [
    {
     "data": {
      "text/html": [
       "<div>\n",
       "<style scoped>\n",
       "    .dataframe tbody tr th:only-of-type {\n",
       "        vertical-align: middle;\n",
       "    }\n",
       "\n",
       "    .dataframe tbody tr th {\n",
       "        vertical-align: top;\n",
       "    }\n",
       "\n",
       "    .dataframe thead th {\n",
       "        text-align: right;\n",
       "    }\n",
       "</style>\n",
       "<table border=\"1\" class=\"dataframe\">\n",
       "  <thead>\n",
       "    <tr style=\"text-align: right;\">\n",
       "      <th></th>\n",
       "      <th>salary</th>\n",
       "    </tr>\n",
       "    <tr>\n",
       "      <th>job</th>\n",
       "      <th></th>\n",
       "    </tr>\n",
       "  </thead>\n",
       "  <tbody>\n",
       "    <tr>\n",
       "      <th>总经理</th>\n",
       "      <td>2800.0</td>\n",
       "    </tr>\n",
       "    <tr>\n",
       "      <th>技术总监</th>\n",
       "      <td>4800.0</td>\n",
       "    </tr>\n",
       "    <tr>\n",
       "      <th>研发工程师</th>\n",
       "      <td>4500.0</td>\n",
       "    </tr>\n",
       "    <tr>\n",
       "      <th>网络管理员</th>\n",
       "      <td>3200.0</td>\n",
       "    </tr>\n",
       "    <tr>\n",
       "      <th>行政专员</th>\n",
       "      <td>2800.0</td>\n",
       "    </tr>\n",
       "    <tr>\n",
       "      <th>财务专员</th>\n",
       "      <td>2800.0</td>\n",
       "    </tr>\n",
       "    <tr>\n",
       "      <th>财务总监</th>\n",
       "      <td>3800.0</td>\n",
       "    </tr>\n",
       "    <tr>\n",
       "      <th>销售专员</th>\n",
       "      <td>2800.0</td>\n",
       "    </tr>\n",
       "    <tr>\n",
       "      <th>销售经理</th>\n",
       "      <td>2800.0</td>\n",
       "    </tr>\n",
       "    <tr>\n",
       "      <th>高级工程师</th>\n",
       "      <td>4800.0</td>\n",
       "    </tr>\n",
       "  </tbody>\n",
       "</table>\n",
       "</div>"
      ],
      "text/plain": [
       "       salary\n",
       "job          \n",
       "总经理    2800.0\n",
       "技术总监   4800.0\n",
       "研发工程师  4500.0\n",
       "网络管理员  3200.0\n",
       "行政专员   2800.0\n",
       "财务专员   2800.0\n",
       "财务总监   3800.0\n",
       "销售专员   2800.0\n",
       "销售经理   2800.0\n",
       "高级工程师  4800.0"
      ]
     },
     "execution_count": 38,
     "metadata": {},
     "output_type": "execute_result"
    }
   ],
   "source": [
    "salary_df"
   ]
  },
  {
   "cell_type": "code",
   "execution_count": 43,
   "metadata": {},
   "outputs": [
    {
     "data": {
      "text/plain": [
       "department_NO\n",
       "D2019060001    1\n",
       "D2019060002    1\n",
       "D2019060011    2\n",
       "D2019060012    4\n",
       "D2019060013    2\n",
       "D2019060014    2\n",
       "D2019090001    2\n",
       "D2019090011    1\n",
       "D2020010001    1\n",
       "Name: 部门人数, dtype: int64"
      ]
     },
     "execution_count": 43,
     "metadata": {},
     "output_type": "execute_result"
    }
   ],
   "source": [
    "#练习：查出至少有一个员工的部门。显示部门编号、部门名称、部门位置、部门人数。\n",
    "department_df = pd.read_excel(\"./data/department.xlsx\")\n",
    "\n",
    "# 统计各个部门人数信息\n",
    "#对部门编号分组，统计个数\n",
    "employee_count_df = employee_df.groupby(by=\"department_NO\").count()\n",
    "employee_count_ser = employee_count_df[\"id\"]\n",
    "#重命名employee_count_ser，把id改名为\"部门人数\"\n",
    "employee_count_ser.rename(\"部门人数\", inplace=True)"
   ]
  },
  {
   "cell_type": "code",
   "execution_count": 51,
   "metadata": {},
   "outputs": [],
   "source": [
    "# 使用join或merge合并部门表信息\n",
    "# 使用merge合并部门人数series对象和department_df,使用内连接方式\n",
    "#merged_df = pd.merge(department_df,employee_count_ser,left_on=\"number\", right_on=\"department_NO\", how=\"inner\")\n",
    "# on指定department_df的number列匹配部门人数seriers的行索引\n",
    "merged_df = department_df.join(employee_count_ser,on=\"number\", how=\"inner\")\n",
    "del merged_df[\"id\"]\n",
    "del merged_df[\"super_NO\"]"
   ]
  },
  {
   "cell_type": "code",
   "execution_count": 52,
   "metadata": {},
   "outputs": [
    {
     "data": {
      "text/html": [
       "<div>\n",
       "<style scoped>\n",
       "    .dataframe tbody tr th:only-of-type {\n",
       "        vertical-align: middle;\n",
       "    }\n",
       "\n",
       "    .dataframe tbody tr th {\n",
       "        vertical-align: top;\n",
       "    }\n",
       "\n",
       "    .dataframe thead th {\n",
       "        text-align: right;\n",
       "    }\n",
       "</style>\n",
       "<table border=\"1\" class=\"dataframe\">\n",
       "  <thead>\n",
       "    <tr style=\"text-align: right;\">\n",
       "      <th></th>\n",
       "      <th>number</th>\n",
       "      <th>name</th>\n",
       "      <th>location</th>\n",
       "      <th>部门人数</th>\n",
       "    </tr>\n",
       "  </thead>\n",
       "  <tbody>\n",
       "    <tr>\n",
       "      <th>2</th>\n",
       "      <td>D2019060001</td>\n",
       "      <td>成都中心</td>\n",
       "      <td>成都</td>\n",
       "      <td>1</td>\n",
       "    </tr>\n",
       "    <tr>\n",
       "      <th>3</th>\n",
       "      <td>D2019060002</td>\n",
       "      <td>武汉中心</td>\n",
       "      <td>武汉</td>\n",
       "      <td>1</td>\n",
       "    </tr>\n",
       "    <tr>\n",
       "      <th>4</th>\n",
       "      <td>D2019090001</td>\n",
       "      <td>上海中心</td>\n",
       "      <td>上海</td>\n",
       "      <td>2</td>\n",
       "    </tr>\n",
       "    <tr>\n",
       "      <th>5</th>\n",
       "      <td>D2020010001</td>\n",
       "      <td>广州中心</td>\n",
       "      <td>广州</td>\n",
       "      <td>1</td>\n",
       "    </tr>\n",
       "    <tr>\n",
       "      <th>6</th>\n",
       "      <td>D2019090011</td>\n",
       "      <td>财务部</td>\n",
       "      <td>上海</td>\n",
       "      <td>1</td>\n",
       "    </tr>\n",
       "    <tr>\n",
       "      <th>8</th>\n",
       "      <td>D2019060011</td>\n",
       "      <td>财务部</td>\n",
       "      <td>成都</td>\n",
       "      <td>2</td>\n",
       "    </tr>\n",
       "    <tr>\n",
       "      <th>9</th>\n",
       "      <td>D2019060012</td>\n",
       "      <td>技术部</td>\n",
       "      <td>成都</td>\n",
       "      <td>4</td>\n",
       "    </tr>\n",
       "    <tr>\n",
       "      <th>10</th>\n",
       "      <td>D2019060013</td>\n",
       "      <td>网络部</td>\n",
       "      <td>成都</td>\n",
       "      <td>2</td>\n",
       "    </tr>\n",
       "    <tr>\n",
       "      <th>11</th>\n",
       "      <td>D2019060014</td>\n",
       "      <td>市场部</td>\n",
       "      <td>成都</td>\n",
       "      <td>2</td>\n",
       "    </tr>\n",
       "  </tbody>\n",
       "</table>\n",
       "</div>"
      ],
      "text/plain": [
       "         number  name location  部门人数\n",
       "2   D2019060001  成都中心       成都     1\n",
       "3   D2019060002  武汉中心       武汉     1\n",
       "4   D2019090001  上海中心       上海     2\n",
       "5   D2020010001  广州中心       广州     1\n",
       "6   D2019090011   财务部       上海     1\n",
       "8   D2019060011   财务部       成都     2\n",
       "9   D2019060012   技术部       成都     4\n",
       "10  D2019060013   网络部       成都     2\n",
       "11  D2019060014   市场部       成都     2"
      ]
     },
     "execution_count": 52,
     "metadata": {},
     "output_type": "execute_result"
    }
   ],
   "source": [
    "merged_df"
   ]
  }
 ],
 "metadata": {
  "kernelspec": {
   "display_name": "Python 3",
   "language": "python",
   "name": "python3"
  },
  "language_info": {
   "codemirror_mode": {
    "name": "ipython",
    "version": 3
   },
   "file_extension": ".py",
   "mimetype": "text/x-python",
   "name": "python",
   "nbconvert_exporter": "python",
   "pygments_lexer": "ipython3",
   "version": "3.8.5"
  }
 },
 "nbformat": 4,
 "nbformat_minor": 4
}
