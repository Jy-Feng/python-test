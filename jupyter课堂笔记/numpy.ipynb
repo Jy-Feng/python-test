{
 "cells": [
  {
   "cell_type": "code",
   "execution_count": 1,
   "metadata": {},
   "outputs": [],
   "source": [
    "# 导包\n",
    "import numpy as np"
   ]
  },
  {
   "cell_type": "code",
   "execution_count": 8,
   "metadata": {},
   "outputs": [],
   "source": [
    "# n维数组ndarray， 描述存储一组相同类型的数据\n",
    "array1 = np.array([1,2,3,4,5,6])\n",
    "# 3行4列二维\n",
    "array2 = np.array([[1,2,3,4],[5,6,7,8],[9,10,11,12]])\n",
    "# 三维度 类比range\n",
    "array3 = np.arange(30).reshape(2,3,5)"
   ]
  },
  {
   "cell_type": "code",
   "execution_count": 18,
   "metadata": {},
   "outputs": [],
   "source": [
    "# 指定dtype\n",
    "array4 = np.array([[1,2,3,4],[5,6,7,8],[9,10,11,12]],dtype=np.float64)"
   ]
  },
  {
   "cell_type": "code",
   "execution_count": 22,
   "metadata": {},
   "outputs": [
    {
     "data": {
      "text/plain": [
       "array([[[ 0.,  1.,  2.,  3.,  4.],\n",
       "        [ 5.,  6.,  7.,  8.,  9.],\n",
       "        [10., 11., 12., 13., 14.]],\n",
       "\n",
       "       [[15., 16., 17., 18., 19.],\n",
       "        [20., 21., 22., 23., 24.],\n",
       "        [25., 26., 27., 28., 29.]]], dtype=float32)"
      ]
     },
     "execution_count": 22,
     "metadata": {},
     "output_type": "execute_result"
    }
   ],
   "source": [
    "# astype转换ndarray的数据类型\n",
    "np.arange(30).reshape(2,3,5).astype(np.float32)"
   ]
  },
  {
   "cell_type": "code",
   "execution_count": 20,
   "metadata": {},
   "outputs": [
    {
     "data": {
      "text/plain": [
       "dtype('float64')"
      ]
     },
     "execution_count": 20,
     "metadata": {},
     "output_type": "execute_result"
    }
   ],
   "source": [
    "array4.dtype"
   ]
  },
  {
   "cell_type": "code",
   "execution_count": 10,
   "metadata": {},
   "outputs": [
    {
     "data": {
      "text/plain": [
       "3"
      ]
     },
     "execution_count": 10,
     "metadata": {},
     "output_type": "execute_result"
    }
   ],
   "source": [
    "# 获取ndarray的维度\n",
    "array3.ndim"
   ]
  },
  {
   "cell_type": "code",
   "execution_count": 11,
   "metadata": {},
   "outputs": [
    {
     "data": {
      "text/plain": [
       "30"
      ]
     },
     "execution_count": 11,
     "metadata": {},
     "output_type": "execute_result"
    }
   ],
   "source": [
    "# 元素个数\n",
    "array3.size"
   ]
  },
  {
   "cell_type": "code",
   "execution_count": 15,
   "metadata": {},
   "outputs": [
    {
     "data": {
      "text/plain": [
       "(3, 4)"
      ]
     },
     "execution_count": 15,
     "metadata": {},
     "output_type": "execute_result"
    }
   ],
   "source": [
    "# ndarray的形状，是一个元组，(每个维度的元素个数)\n",
    "array2.shape"
   ]
  },
  {
   "cell_type": "code",
   "execution_count": 16,
   "metadata": {},
   "outputs": [
    {
     "data": {
      "text/plain": [
       "dtype('int32')"
      ]
     },
     "execution_count": 16,
     "metadata": {},
     "output_type": "execute_result"
    }
   ],
   "source": [
    "# 元素的数据类型 np.int\n",
    "array3.dtype"
   ]
  },
  {
   "cell_type": "code",
   "execution_count": 17,
   "metadata": {},
   "outputs": [
    {
     "data": {
      "text/plain": [
       "4"
      ]
     },
     "execution_count": 17,
     "metadata": {},
     "output_type": "execute_result"
    }
   ],
   "source": [
    "# 元素占用的内存空间大小，单位字节\n",
    "array3.itemsize"
   ]
  },
  {
   "cell_type": "code",
   "execution_count": 27,
   "metadata": {
    "scrolled": true
   },
   "outputs": [
    {
     "data": {
      "text/plain": [
       "array([[1, 1, 1, 1, 1, 1, 1, 1],\n",
       "       [1, 1, 1, 1, 1, 1, 1, 1],\n",
       "       [1, 1, 1, 1, 1, 1, 1, 1],\n",
       "       [1, 1, 1, 1, 1, 1, 1, 1],\n",
       "       [1, 1, 1, 1, 1, 1, 1, 1]], dtype=int16)"
      ]
     },
     "execution_count": 27,
     "metadata": {},
     "output_type": "execute_result"
    }
   ],
   "source": [
    "# 创建全为1的ndarray, 可以使用dtype指定数据类型\n",
    "np.ones(40, dtype=np.int16).reshape(5,8)"
   ]
  },
  {
   "cell_type": "code",
   "execution_count": 29,
   "metadata": {},
   "outputs": [
    {
     "data": {
      "text/plain": [
       "array([[0, 0, 0, 0, 0, 0],\n",
       "       [0, 0, 0, 0, 0, 0],\n",
       "       [0, 0, 0, 0, 0, 0],\n",
       "       [0, 0, 0, 0, 0, 0],\n",
       "       [0, 0, 0, 0, 0, 0]], dtype=int64)"
      ]
     },
     "execution_count": 29,
     "metadata": {},
     "output_type": "execute_result"
    }
   ],
   "source": [
    "# 创建全为0的ndarray\n",
    "np.zeros(30, dtype=np.int64).reshape(5,6)"
   ]
  },
  {
   "cell_type": "code",
   "execution_count": 28,
   "metadata": {},
   "outputs": [
    {
     "data": {
      "text/plain": [
       "array([257, 257, 257, 257, 257, 257, 257, 257, 257, 257, 257, 257, 257,\n",
       "       257, 257, 257, 257, 257, 257, 257], dtype=int16)"
      ]
     },
     "execution_count": 28,
     "metadata": {},
     "output_type": "execute_result"
    }
   ],
   "source": [
    "# 创建一个不指定初始值的ndarray\n",
    "np.empty(20,dtype=np.int16)"
   ]
  },
  {
   "cell_type": "code",
   "execution_count": 31,
   "metadata": {},
   "outputs": [
    {
     "data": {
      "text/plain": [
       "array([10, 12, 14, 16, 18, 20, 22, 24, 26, 28, 30, 32, 34, 36, 38, 40, 42,\n",
       "       44, 46, 48, 50, 52, 54, 56, 58, 60, 62, 64, 66, 68, 70, 72, 74, 76,\n",
       "       78, 80, 82, 84, 86, 88, 90, 92, 94, 96, 98])"
      ]
     },
     "execution_count": 31,
     "metadata": {},
     "output_type": "execute_result"
    }
   ],
   "source": [
    "#创建ndarray常用方式\n",
    "#np.array([])  arange(start,end,step), end不包括\n",
    "np.arange(10,100,2)"
   ]
  },
  {
   "cell_type": "markdown",
   "metadata": {},
   "source": [
    "### ndarray的运算"
   ]
  },
  {
   "cell_type": "code",
   "execution_count": 46,
   "metadata": {},
   "outputs": [],
   "source": [
    "# 两个相同形状的ndarry直接的算术运算, 规则，对用位置的元素进行算数运算\n",
    "array4 = np.arange(10)\n",
    "array5 = np.arange(0,10)"
   ]
  },
  {
   "cell_type": "code",
   "execution_count": 42,
   "metadata": {},
   "outputs": [
    {
     "data": {
      "text/plain": [
       "array([0, 1, 2, 3, 4, 5, 6, 7, 8, 9])"
      ]
     },
     "execution_count": 42,
     "metadata": {},
     "output_type": "execute_result"
    }
   ],
   "source": [
    "array4 "
   ]
  },
  {
   "cell_type": "code",
   "execution_count": 47,
   "metadata": {},
   "outputs": [
    {
     "data": {
      "text/plain": [
       "array([0, 1, 2, 3, 4, 5, 6, 7, 8, 9])"
      ]
     },
     "execution_count": 47,
     "metadata": {},
     "output_type": "execute_result"
    }
   ],
   "source": [
    "array5"
   ]
  },
  {
   "cell_type": "code",
   "execution_count": 48,
   "metadata": {},
   "outputs": [
    {
     "name": "stderr",
     "output_type": "stream",
     "text": [
      "<ipython-input-48-5af784ab650e>:1: RuntimeWarning: invalid value encountered in true_divide\n",
      "  array5 / array4\n"
     ]
    },
    {
     "data": {
      "text/plain": [
       "array([nan,  1.,  1.,  1.,  1.,  1.,  1.,  1.,  1.,  1.])"
      ]
     },
     "execution_count": 48,
     "metadata": {},
     "output_type": "execute_result"
    }
   ],
   "source": [
    "array5 / array4"
   ]
  },
  {
   "cell_type": "code",
   "execution_count": 49,
   "metadata": {},
   "outputs": [
    {
     "data": {
      "text/plain": [
       "array([ 1,  2,  3,  4,  5,  6,  7,  8,  9, 10])"
      ]
     },
     "execution_count": 49,
     "metadata": {},
     "output_type": "execute_result"
    }
   ],
   "source": [
    "# ndarray和标量之间运算， 每个元素都和该标量进行运算\n",
    "array4 + 1"
   ]
  },
  {
   "cell_type": "code",
   "execution_count": 61,
   "metadata": {},
   "outputs": [],
   "source": [
    "# 广播机制\n",
    "# 可以广播的条件：\n",
    "# 1：相同维度下，不同形状的2个ndarray要成功广播，需满足，对应维度的元素个数要么相等，要么其中一个为1\n",
    "# 2：不同维度下，先将形状的元组进行右对齐，重叠部分的维度，满足条件1，即可\n",
    "# (4,5,8)\n",
    "#   (5,1)\n",
    "array4 = np.arange(12).reshape(3,4)\n",
    "array5 = np.arange(4).reshape(1,4)\n",
    "array6 = np.arange(3).reshape(3,1)\n",
    "array7 = np.arange(6).reshape(3,2)\n",
    "array8 = np.arange(160).reshape(4,5,8)\n",
    "array9 = np.arange(5).reshape(5,1) # 广播过程-> (5,8) ->(1,5,8) ->(4,5,8)"
   ]
  },
  {
   "cell_type": "code",
   "execution_count": 62,
   "metadata": {},
   "outputs": [
    {
     "data": {
      "text/plain": [
       "array([[[  0,   1,   2,   3,   4,   5,   6,   7],\n",
       "        [  8,   9,  10,  11,  12,  13,  14,  15],\n",
       "        [ 16,  17,  18,  19,  20,  21,  22,  23],\n",
       "        [ 24,  25,  26,  27,  28,  29,  30,  31],\n",
       "        [ 32,  33,  34,  35,  36,  37,  38,  39]],\n",
       "\n",
       "       [[ 40,  41,  42,  43,  44,  45,  46,  47],\n",
       "        [ 48,  49,  50,  51,  52,  53,  54,  55],\n",
       "        [ 56,  57,  58,  59,  60,  61,  62,  63],\n",
       "        [ 64,  65,  66,  67,  68,  69,  70,  71],\n",
       "        [ 72,  73,  74,  75,  76,  77,  78,  79]],\n",
       "\n",
       "       [[ 80,  81,  82,  83,  84,  85,  86,  87],\n",
       "        [ 88,  89,  90,  91,  92,  93,  94,  95],\n",
       "        [ 96,  97,  98,  99, 100, 101, 102, 103],\n",
       "        [104, 105, 106, 107, 108, 109, 110, 111],\n",
       "        [112, 113, 114, 115, 116, 117, 118, 119]],\n",
       "\n",
       "       [[120, 121, 122, 123, 124, 125, 126, 127],\n",
       "        [128, 129, 130, 131, 132, 133, 134, 135],\n",
       "        [136, 137, 138, 139, 140, 141, 142, 143],\n",
       "        [144, 145, 146, 147, 148, 149, 150, 151],\n",
       "        [152, 153, 154, 155, 156, 157, 158, 159]]])"
      ]
     },
     "execution_count": 62,
     "metadata": {},
     "output_type": "execute_result"
    }
   ],
   "source": [
    "array8"
   ]
  },
  {
   "cell_type": "code",
   "execution_count": 63,
   "metadata": {},
   "outputs": [
    {
     "data": {
      "text/plain": [
       "array([[[  0,   1,   2,   3,   4,   5,   6,   7],\n",
       "        [  9,  10,  11,  12,  13,  14,  15,  16],\n",
       "        [ 18,  19,  20,  21,  22,  23,  24,  25],\n",
       "        [ 27,  28,  29,  30,  31,  32,  33,  34],\n",
       "        [ 36,  37,  38,  39,  40,  41,  42,  43]],\n",
       "\n",
       "       [[ 40,  41,  42,  43,  44,  45,  46,  47],\n",
       "        [ 49,  50,  51,  52,  53,  54,  55,  56],\n",
       "        [ 58,  59,  60,  61,  62,  63,  64,  65],\n",
       "        [ 67,  68,  69,  70,  71,  72,  73,  74],\n",
       "        [ 76,  77,  78,  79,  80,  81,  82,  83]],\n",
       "\n",
       "       [[ 80,  81,  82,  83,  84,  85,  86,  87],\n",
       "        [ 89,  90,  91,  92,  93,  94,  95,  96],\n",
       "        [ 98,  99, 100, 101, 102, 103, 104, 105],\n",
       "        [107, 108, 109, 110, 111, 112, 113, 114],\n",
       "        [116, 117, 118, 119, 120, 121, 122, 123]],\n",
       "\n",
       "       [[120, 121, 122, 123, 124, 125, 126, 127],\n",
       "        [129, 130, 131, 132, 133, 134, 135, 136],\n",
       "        [138, 139, 140, 141, 142, 143, 144, 145],\n",
       "        [147, 148, 149, 150, 151, 152, 153, 154],\n",
       "        [156, 157, 158, 159, 160, 161, 162, 163]]])"
      ]
     },
     "execution_count": 63,
     "metadata": {},
     "output_type": "execute_result"
    }
   ],
   "source": [
    "array8+ array9"
   ]
  },
  {
   "cell_type": "code",
   "execution_count": 59,
   "metadata": {},
   "outputs": [
    {
     "ename": "ValueError",
     "evalue": "operands could not be broadcast together with shapes (3,4) (3,2) ",
     "output_type": "error",
     "traceback": [
      "\u001b[1;31m---------------------------------------------------------------------------\u001b[0m",
      "\u001b[1;31mValueError\u001b[0m                                Traceback (most recent call last)",
      "\u001b[1;32m<ipython-input-59-281024b797a2>\u001b[0m in \u001b[0;36m<module>\u001b[1;34m\u001b[0m\n\u001b[1;32m----> 1\u001b[1;33m \u001b[0marray4\u001b[0m \u001b[1;33m+\u001b[0m \u001b[0marray7\u001b[0m\u001b[1;33m\u001b[0m\u001b[1;33m\u001b[0m\u001b[0m\n\u001b[0m",
      "\u001b[1;31mValueError\u001b[0m: operands could not be broadcast together with shapes (3,4) (3,2) "
     ]
    }
   ],
   "source": [
    "array4 + array7"
   ]
  },
  {
   "cell_type": "markdown",
   "metadata": {},
   "source": [
    "### ndarray的索引"
   ]
  },
  {
   "cell_type": "code",
   "execution_count": 67,
   "metadata": {},
   "outputs": [
    {
     "data": {
      "text/plain": [
       "array([[ 0,  1,  2,  3],\n",
       "       [ 4,  5,  6,  7],\n",
       "       [ 8,  9, 10, 11]])"
      ]
     },
     "execution_count": 67,
     "metadata": {},
     "output_type": "execute_result"
    }
   ],
   "source": [
    "array4"
   ]
  },
  {
   "cell_type": "code",
   "execution_count": 68,
   "metadata": {},
   "outputs": [
    {
     "data": {
      "text/plain": [
       "7"
      ]
     },
     "execution_count": 68,
     "metadata": {},
     "output_type": "execute_result"
    }
   ],
   "source": [
    "# 基本索引方式 ndarray[第1个维度的序号,第2维度的序号,...,第n个维度的序号]\n",
    "# 通过序号来索引，从0开始\n",
    "array4[1,3]"
   ]
  },
  {
   "cell_type": "code",
   "execution_count": 69,
   "metadata": {},
   "outputs": [
    {
     "data": {
      "text/plain": [
       "array([4, 5, 6, 7])"
      ]
     },
     "execution_count": 69,
     "metadata": {},
     "output_type": "execute_result"
    }
   ],
   "source": [
    "# 索引第一个维度的元素，索引第1行\n",
    "array4[1]"
   ]
  },
  {
   "cell_type": "code",
   "execution_count": 75,
   "metadata": {},
   "outputs": [
    {
     "data": {
      "text/plain": [
       "array([[1, 2]])"
      ]
     },
     "execution_count": 75,
     "metadata": {},
     "output_type": "execute_result"
    }
   ],
   "source": [
    "# 切片方式   start:end:step, 可以针对任意一个维度\n",
    "array4[:1,1:3]"
   ]
  },
  {
   "cell_type": "code",
   "execution_count": 76,
   "metadata": {},
   "outputs": [
    {
     "data": {
      "text/plain": [
       "array([1, 7])"
      ]
     },
     "execution_count": 76,
     "metadata": {},
     "output_type": "execute_result"
    }
   ],
   "source": [
    "# 花式索引 ndarray[第一个维度的序号列表,第二个维度的序号列表,...,第n个维度的序号列表]\n",
    "# 0行1列元素，和2行3列的元素\n",
    "# 对比切片方式，使用的序号是不连续的\n",
    "array4[[0,2],[1,3]]"
   ]
  },
  {
   "cell_type": "code",
   "execution_count": 77,
   "metadata": {},
   "outputs": [
    {
     "data": {
      "text/plain": [
       "array([[ 0,  1,  2,  3],\n",
       "       [ 4,  5,  6,  7],\n",
       "       [ 8,  9, 10, 11]])"
      ]
     },
     "execution_count": 77,
     "metadata": {},
     "output_type": "execute_result"
    }
   ],
   "source": [
    "# 返回array4的4个角的元素，返回一个新的一维的ndarray\n",
    "array4"
   ]
  },
  {
   "cell_type": "code",
   "execution_count": 78,
   "metadata": {},
   "outputs": [
    {
     "data": {
      "text/plain": [
       "array([ 0,  3,  8, 11])"
      ]
     },
     "execution_count": 78,
     "metadata": {},
     "output_type": "execute_result"
    }
   ],
   "source": [
    "array4[[0,0,2,2],[0,3,0,3]]"
   ]
  },
  {
   "cell_type": "code",
   "execution_count": 79,
   "metadata": {},
   "outputs": [
    {
     "data": {
      "text/plain": [
       "array([[ 0,  3],\n",
       "       [ 8, 11]])"
      ]
     },
     "execution_count": 79,
     "metadata": {},
     "output_type": "execute_result"
    }
   ],
   "source": [
    "# 返回array4的4个角的元素，返回一个新的二维的2行2列的ndarray,了解\n",
    "array4[[[0,0],[2,2]],[[0,3],[0,3]]]"
   ]
  },
  {
   "cell_type": "code",
   "execution_count": 83,
   "metadata": {},
   "outputs": [],
   "source": [
    "#布尔索引\n",
    "# 布尔数组： 元素类型为bool的ndarray\n",
    "# ndarray做比较运算 > < >= <= != ==\n",
    "bool_array = array4 > 9"
   ]
  },
  {
   "cell_type": "code",
   "execution_count": 84,
   "metadata": {},
   "outputs": [
    {
     "data": {
      "text/plain": [
       "array([10, 11])"
      ]
     },
     "execution_count": 84,
     "metadata": {},
     "output_type": "execute_result"
    }
   ],
   "source": [
    "# 定义：使用布尔数组进行索引, 使用场景，就是做元素的条件筛选\n",
    "\n",
    "array4[bool_array]"
   ]
  },
  {
   "cell_type": "code",
   "execution_count": 85,
   "metadata": {},
   "outputs": [
    {
     "data": {
      "text/plain": [
       "array([0, 1, 2, 3, 4])"
      ]
     },
     "execution_count": 85,
     "metadata": {},
     "output_type": "execute_result"
    }
   ],
   "source": [
    "array4[array4<5]"
   ]
  },
  {
   "cell_type": "code",
   "execution_count": 87,
   "metadata": {},
   "outputs": [],
   "source": [
    "# 筛选5到9之间的元素  : 逻辑运算符 都可以操作bool数组，& | ~\n",
    "bool_array = (array4 > 5) & (array4 < 9)"
   ]
  },
  {
   "cell_type": "code",
   "execution_count": 89,
   "metadata": {},
   "outputs": [
    {
     "data": {
      "text/plain": [
       "array([6, 7, 8])"
      ]
     },
     "execution_count": 89,
     "metadata": {},
     "output_type": "execute_result"
    }
   ],
   "source": [
    "array4[bool_array]"
   ]
  },
  {
   "cell_type": "markdown",
   "metadata": {},
   "source": [
    "### 深拷贝和浅拷贝"
   ]
  },
  {
   "cell_type": "code",
   "execution_count": 90,
   "metadata": {},
   "outputs": [],
   "source": [
    "# 深拷贝：集合里面的元素进行完整的复制了一份\n",
    "# 浅拷贝：仅对集合对象进行复制，集合里面的元素仍然是之前\n",
    "# python的列表的切片操作是深拷贝\n",
    "# ndarray的切片操作是浅拷贝\n",
    "list1 = [1,2,3,4,5]\n",
    "list2 = list1[:]\n"
   ]
  },
  {
   "cell_type": "code",
   "execution_count": 91,
   "metadata": {},
   "outputs": [],
   "source": [
    "#修改切片后的list2的元素值，不会影响list1的元素内容\n",
    "list2[0] = 100"
   ]
  },
  {
   "cell_type": "code",
   "execution_count": 95,
   "metadata": {},
   "outputs": [],
   "source": [
    "array10 = array4[:,2]"
   ]
  },
  {
   "cell_type": "code",
   "execution_count": 97,
   "metadata": {},
   "outputs": [],
   "source": [
    "# 修改索引后的ndarray的元素值，会影响原ndarray\n",
    "array10[0] = 100"
   ]
  },
  {
   "cell_type": "code",
   "execution_count": 98,
   "metadata": {},
   "outputs": [
    {
     "data": {
      "text/plain": [
       "array([[  0,   1, 100,   3],\n",
       "       [  4,   5,   6,   7],\n",
       "       [  8,   9,  10,  11]])"
      ]
     },
     "execution_count": 98,
     "metadata": {},
     "output_type": "execute_result"
    }
   ],
   "source": [
    "array4"
   ]
  },
  {
   "cell_type": "markdown",
   "metadata": {},
   "source": [
    "### 通用函数"
   ]
  },
  {
   "cell_type": "code",
   "execution_count": 99,
   "metadata": {},
   "outputs": [
    {
     "data": {
      "text/plain": [
       "array([2., 3., 4., 6.])"
      ]
     },
     "execution_count": 99,
     "metadata": {},
     "output_type": "execute_result"
    }
   ],
   "source": [
    "# 一元函数 ：操作一个ndarray，np.floor(ndarray)\n",
    "# 二原函数: 操作二个ndarray，np.add(ndarray1,ndarray2)\n",
    "# 一元函数：\n",
    "array6 = np.array([1.3,2.4,3.6,5.1])\n",
    "# 向上取整：取大于该浮点数的最小的整数\n",
    "np.ceil(array6)"
   ]
  },
  {
   "cell_type": "code",
   "execution_count": 100,
   "metadata": {},
   "outputs": [
    {
     "data": {
      "text/plain": [
       "array([1., 2., 3., 5.])"
      ]
     },
     "execution_count": 100,
     "metadata": {},
     "output_type": "execute_result"
    }
   ],
   "source": [
    "#向下取整：取小于该浮点数的最大的整数\n",
    "np.floor(array6)"
   ]
  },
  {
   "cell_type": "code",
   "execution_count": null,
   "metadata": {},
   "outputs": [],
   "source": [
    "# 二元函数\n",
    "# ndarray之间加减乘除 add(),subtract()等, 等价于 + - * /算术运算符\n",
    "# greater() less()等 ,等价于> < >= <= != ==比较运算符"
   ]
  },
  {
   "cell_type": "code",
   "execution_count": 103,
   "metadata": {},
   "outputs": [
    {
     "data": {
      "text/plain": [
       "array([[ 0,  1,  0,  3],\n",
       "       [ 4,  5,  6,  7],\n",
       "       [ 8,  9, 10,  0]])"
      ]
     },
     "execution_count": 103,
     "metadata": {},
     "output_type": "execute_result"
    }
   ],
   "source": [
    "# java 三元操作符 条件表达式?表达式1:表达式2\n",
    "# numpy提供一个numpy版本\"三元操作符\"： \n",
    "# where(布尔数组，ndarray1，ndarray2)，根据布尔数组里元素的真假，真就取ndarray1的元素，假就取ndarray2的元素\n",
    "# 返回一个同样形状的新的ndarray\n",
    "# 把array4大于10的数置0\n",
    "np.where(array4>10, 0, array4)"
   ]
  },
  {
   "cell_type": "code",
   "execution_count": 105,
   "metadata": {},
   "outputs": [
    {
     "data": {
      "text/plain": [
       "array([[  1,   1, 100,   3],\n",
       "       [  4,   5,   6,   7],\n",
       "       [  8,   9,  10,  11]])"
      ]
     },
     "execution_count": 105,
     "metadata": {},
     "output_type": "execute_result"
    }
   ],
   "source": [
    "# 把array4等于0的元素置为1\n",
    "np.where(array4==0, 1, array4)"
   ]
  },
  {
   "cell_type": "code",
   "execution_count": 106,
   "metadata": {},
   "outputs": [],
   "source": [
    "# 统计计算函数\n",
    "# 聚合函数: 一组数统计计算成一个数\n",
    "# 求和sum() 求最大值max()，求最小值min(), 求mean()平均值，求最大值序号argmax()....求累积和cussum()\n",
    "array6 = np.array([1,2,3,4])"
   ]
  },
  {
   "cell_type": "code",
   "execution_count": 108,
   "metadata": {},
   "outputs": [
    {
     "data": {
      "text/plain": [
       "4"
      ]
     },
     "execution_count": 108,
     "metadata": {},
     "output_type": "execute_result"
    }
   ],
   "source": [
    "# numpy函数\n",
    "np.max(array6)"
   ]
  },
  {
   "cell_type": "code",
   "execution_count": 110,
   "metadata": {},
   "outputs": [
    {
     "data": {
      "text/plain": [
       "3"
      ]
     },
     "execution_count": 110,
     "metadata": {},
     "output_type": "execute_result"
    }
   ],
   "source": [
    "#ndarray对象的方法\n",
    "array6.max()"
   ]
  },
  {
   "cell_type": "code",
   "execution_count": 113,
   "metadata": {},
   "outputs": [
    {
     "data": {
      "text/plain": [
       "array([[ 0,  1,  2,  3],\n",
       "       [ 4,  5,  6,  7],\n",
       "       [ 8,  9, 10, 11]])"
      ]
     },
     "execution_count": 113,
     "metadata": {},
     "output_type": "execute_result"
    }
   ],
   "source": [
    "array4"
   ]
  },
  {
   "cell_type": "code",
   "execution_count": 116,
   "metadata": {},
   "outputs": [
    {
     "name": "stdout",
     "output_type": "stream",
     "text": [
      "array4中没有一个元素大于11\n"
     ]
    }
   ],
   "source": [
    "# np.any(布尔ndarray)\n",
    "# 布尔ndarray中只要有一个True，返回True\n",
    "if np.any(array4 >11):\n",
    "    print(\"array4中至少有一个元素大于11\")\n",
    "else:\n",
    "    print(\"array4中没有一个元素大于11\")"
   ]
  },
  {
   "cell_type": "code",
   "execution_count": 119,
   "metadata": {},
   "outputs": [
    {
     "name": "stdout",
     "output_type": "stream",
     "text": [
      "array4中至少有一个元素小于等于0\n"
     ]
    }
   ],
   "source": [
    "# np.all(布尔ndarray)\n",
    "# 这个布尔ndarray中全部为True，返回True\n",
    "# 只要有一个False，返回False\n",
    "if np.all(array4>0):\n",
    "    print(\"array4中的元素全部大于0\")\n",
    "else:\n",
    "    print(\"array4中至少有一个元素小于等于0\")\n"
   ]
  },
  {
   "cell_type": "markdown",
   "metadata": {},
   "source": [
    "### 线性代数相关函数"
   ]
  },
  {
   "cell_type": "code",
   "execution_count": 123,
   "metadata": {},
   "outputs": [
    {
     "data": {
      "text/plain": [
       "array([[81.],\n",
       "       [70.],\n",
       "       [86.],\n",
       "       [69.],\n",
       "       [57.]])"
      ]
     },
     "execution_count": 123,
     "metadata": {},
     "output_type": "execute_result"
    }
   ],
   "source": [
    "# dot()点乘   matmul()矩阵乘法\n",
    "# M * N 矩阵，N * L矩阵 矩阵乘法 -> M * L\n",
    "#创建5个同学的平时成绩和考试成绩 5行2列\n",
    "array8 = np.array([[60,90],[70,70],[100,80],[90,60],[50,60]])\n",
    "#系数矩阵为2行1列\n",
    "factor_array = np.array([[0.3],[0.7]])\n",
    "# 做矩阵乘积计算最终成绩\n",
    "np.matmul(array8, factor_array)"
   ]
  },
  {
   "cell_type": "code",
   "execution_count": 121,
   "metadata": {
    "scrolled": true
   },
   "outputs": [
    {
     "data": {
      "text/plain": [
       "array([[ 60,  90],\n",
       "       [ 70,  70],\n",
       "       [100,  80],\n",
       "       [ 90,  60],\n",
       "       [ 50,  60]])"
      ]
     },
     "execution_count": 121,
     "metadata": {},
     "output_type": "execute_result"
    }
   ],
   "source": [
    "array8"
   ]
  },
  {
   "cell_type": "markdown",
   "metadata": {},
   "source": [
    "### 随机数模块"
   ]
  },
  {
   "cell_type": "code",
   "execution_count": 124,
   "metadata": {},
   "outputs": [
    {
     "data": {
      "text/plain": [
       "array([0.0438619 , 0.45642095, 0.13862138, 0.74136346, 0.85854348,\n",
       "       0.3622459 , 0.023417  , 0.37450558, 0.67582853, 0.2299648 ,\n",
       "       0.47318297, 0.16937854, 0.71082537, 0.33069867, 0.89064105,\n",
       "       0.99667143, 0.21468895, 0.25851506, 0.45568117, 0.04884311])"
      ]
     },
     "execution_count": 124,
     "metadata": {},
     "output_type": "execute_result"
    }
   ],
   "source": [
    "# 使用随机数模块来生成ndarray\n",
    "# array() arange() ones() zeros() empty()都可以创建ndarray\n",
    "# 随机生成20个一维的值在[0,1)区间中的浮点数\n",
    "np.random.rand(20).reshape(4,5)\n"
   ]
  },
  {
   "cell_type": "code",
   "execution_count": 125,
   "metadata": {},
   "outputs": [
    {
     "data": {
      "text/plain": [
       "array([[56, 43],\n",
       "       [47, 76],\n",
       "       [55, 96],\n",
       "       [74, 40],\n",
       "       [47, 67],\n",
       "       [50, 40],\n",
       "       [51, 54],\n",
       "       [86, 67],\n",
       "       [41, 85],\n",
       "       [67, 45],\n",
       "       [48, 96],\n",
       "       [58, 47],\n",
       "       [89, 49],\n",
       "       [78, 79],\n",
       "       [81, 45]])"
      ]
     },
     "execution_count": 125,
     "metadata": {},
     "output_type": "execute_result"
    }
   ],
   "source": [
    "# 生成40至100之间，30个随机整数\n",
    "np.random.randint(40,100,30).reshape(15,2)"
   ]
  },
  {
   "cell_type": "code",
   "execution_count": 127,
   "metadata": {},
   "outputs": [
    {
     "data": {
      "text/plain": [
       "array([0.45894193, 0.5866759 , 0.27926281, 0.84624581, 0.08104467,\n",
       "       0.99088216, 0.70007636, 0.74798237, 0.59727057, 0.51142411,\n",
       "       0.17259404, 0.45084663, 0.3895702 , 0.2451004 , 0.24954466,\n",
       "       0.00975887, 0.59780538, 0.15349179, 0.23162728, 0.63294733])"
      ]
     },
     "execution_count": 127,
     "metadata": {},
     "output_type": "execute_result"
    }
   ],
   "source": [
    "# 生成随机的[0,1)区间的20个符合平均分布的浮点数\n",
    "np.random.uniform(0,1, 20)"
   ]
  },
  {
   "cell_type": "code",
   "execution_count": 154,
   "metadata": {},
   "outputs": [
    {
     "data": {
      "text/plain": [
       "array([], dtype=float64)"
      ]
     },
     "execution_count": 154,
     "metadata": {},
     "output_type": "execute_result"
    }
   ],
   "source": [
    "# 生成的为期望值为0，标准差为1的200个符合正态分布规律的随机浮点数\n",
    "array9 = np.random.normal(0,1, 200)\n",
    "# 看array9中有没有大于3的数，有就筛选出来\n",
    "array9[array9 > 3]"
   ]
  },
  {
   "cell_type": "code",
   "execution_count": 155,
   "metadata": {},
   "outputs": [],
   "source": [
    "# 酒鬼漫步：模拟酒鬼漫步：在一条线上随机的向前或向后移动2000步，计算这2000步中，向前最远走到多少米，\n",
    "#（一步0.5米），向后最远走到多少米；走到15米时（不论前后），走了多少步？"
   ]
  },
  {
   "cell_type": "code",
   "execution_count": 184,
   "metadata": {},
   "outputs": [
    {
     "name": "stdout",
     "output_type": "stream",
     "text": [
      "max_distence=10.5, min_distence=-10.0\n",
      "走到15米时（不论前后），走了0步\n"
     ]
    }
   ],
   "source": [
    "# 生成2000的随机的+1和-1的ndarray来模拟酒鬼移动情况\n",
    "random_array = np.random.rand(2000) # 生成[0,1)区间的随机数\n",
    "random_steps = np.where(random_array >= 0.5,1,-1) \n",
    "# 累积走了n步之后移动的距离，2000个元素的ndarray\n",
    "random_distence = np.cumsum(random_steps * 0.5)\n",
    "# 对random_distence求极值\n",
    "max_distence = np.max(random_distence)\n",
    "min_distence = np.min(random_distence)\n",
    "print(\"max_distence=\" + str(max_distence) + \", min_distence=\" + str(min_distence))\n",
    "#计算酒鬼移动的距离数组中，绝对值第一个大于等于15的索引序号，即走了多少步\n",
    "step_index = np.argmax(np.abs(random_distence) >= 15)\n",
    "print(\"走到15米时（不论前后），走了\" + str(step_index) + \"步\")"
   ]
  },
  {
   "cell_type": "code",
   "execution_count": 175,
   "metadata": {},
   "outputs": [
    {
     "data": {
      "text/plain": [
       "array([False, False, False, ...,  True,  True,  True])"
      ]
     },
     "execution_count": 175,
     "metadata": {},
     "output_type": "execute_result"
    }
   ],
   "source": [
    "# argmax最大值的索引，第一个True所在索引值，就是正向走到15米时，走了多少步\n",
    "np.argmax(random_distence >= 15)"
   ]
  },
  {
   "cell_type": "code",
   "execution_count": null,
   "metadata": {},
   "outputs": [],
   "source": [
    "#第一个True所在索引值，就是向后走到15米时，走了多少步\n",
    "np.argmax(random_distence <= -15)"
   ]
  },
  {
   "cell_type": "code",
   "execution_count": null,
   "metadata": {},
   "outputs": [],
   "source": [
    "#累积和统计计算\n",
    "# [1,2,3,4] -> [1,1+2,1+2+3,1+2+3+4]"
   ]
  },
  {
   "cell_type": "code",
   "execution_count": null,
   "metadata": {},
   "outputs": [],
   "source": [
    "# 练习： 随机生成10个同学语文、数学，英语3门成绩\n",
    "# 求前5个同学的语文平均成绩\n",
    "# 求前5个同学的数学最高成绩\n",
    "# 求前5个同学的英语最低成绩"
   ]
  },
  {
   "cell_type": "code",
   "execution_count": 185,
   "metadata": {},
   "outputs": [],
   "source": [
    "import random"
   ]
  },
  {
   "cell_type": "code",
   "execution_count": 186,
   "metadata": {},
   "outputs": [],
   "source": [
    "# %time魔法指令，可以统计代码的运行时间\n",
    "# 统计1000万个随机浮点数，求和所花费的时间\n",
    "# numpy的ndarray相关运算速度比python list快\n",
    "list1 = []\n",
    "size = 10000000\n",
    "for x in range(size):\n",
    "    list1.append(random.random()) #[0,1)区间浮点数\n"
   ]
  },
  {
   "cell_type": "code",
   "execution_count": 188,
   "metadata": {},
   "outputs": [],
   "source": [
    "ndarray1 = np.random.rand(size)"
   ]
  },
  {
   "cell_type": "code",
   "execution_count": 199,
   "metadata": {},
   "outputs": [
    {
     "name": "stdout",
     "output_type": "stream",
     "text": [
      "Wall time: 108 ms\n"
     ]
    },
    {
     "data": {
      "text/plain": [
       "5000917.9915966615"
      ]
     },
     "execution_count": 199,
     "metadata": {},
     "output_type": "execute_result"
    }
   ],
   "source": [
    "%time sum(list1)"
   ]
  },
  {
   "cell_type": "code",
   "execution_count": 196,
   "metadata": {},
   "outputs": [
    {
     "name": "stdout",
     "output_type": "stream",
     "text": [
      "Wall time: 15 ms\n"
     ]
    },
    {
     "data": {
      "text/plain": [
       "4999857.050637804"
      ]
     },
     "execution_count": 196,
     "metadata": {},
     "output_type": "execute_result"
    }
   ],
   "source": [
    "%time np.sum(ndarray1)"
   ]
  }
 ],
 "metadata": {
  "kernelspec": {
   "display_name": "Python 3",
   "language": "python",
   "name": "python3"
  },
  "language_info": {
   "codemirror_mode": {
    "name": "ipython",
    "version": 3
   },
   "file_extension": ".py",
   "mimetype": "text/x-python",
   "name": "python",
   "nbconvert_exporter": "python",
   "pygments_lexer": "ipython3",
   "version": "3.8.5"
  }
 },
 "nbformat": 4,
 "nbformat_minor": 4
}
