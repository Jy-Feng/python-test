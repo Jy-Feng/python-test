{
 "cells": [
  {
   "cell_type": "code",
   "execution_count": 36,
   "metadata": {},
   "outputs": [],
   "source": [
    "#python原生的时间类型\n",
    "from datetime import datetime\n",
    "from datetime import timedelta\n",
    "import pandas as pd\n",
    "import numpy as np\n",
    "from pandas.tseries.offsets import *"
   ]
  },
  {
   "cell_type": "code",
   "execution_count": 6,
   "metadata": {},
   "outputs": [],
   "source": [
    "#创建时间对象\n",
    "datetime1 = datetime(2012,10,1,10,30,20)\n",
    "#创建时间偏移量 days表示偏移天数，hours偏移的小时数，minutes偏移的分钟数\n",
    "timedelta1 = timedelta(days=1,hours=12,minutes=30)"
   ]
  },
  {
   "cell_type": "code",
   "execution_count": 7,
   "metadata": {},
   "outputs": [
    {
     "data": {
      "text/plain": [
       "datetime.datetime(2012, 10, 2, 23, 0, 20)"
      ]
     },
     "execution_count": 7,
     "metadata": {},
     "output_type": "execute_result"
    }
   ],
   "source": [
    "#时间对象可以和时间偏移量对象进行运算，结果为新的时间对象\n",
    "datetime1 + timedelta1\n",
    "#python称这种没有时区信息的时间对象为简单时间对象"
   ]
  },
  {
   "cell_type": "code",
   "execution_count": null,
   "metadata": {},
   "outputs": [],
   "source": [
    "#numpy定义时间类型np.datetime64，用8字节表示一个时间，时间范围，0000-01-01 00：00：00.000 至9999-12-31 23：59：59.999\n",
    "#对比mysql中timestamp时间类型，4个字节表示时间，时间范围，1970-01-01 00：00：00 至2038,精度到秒\n"
   ]
  },
  {
   "cell_type": "code",
   "execution_count": null,
   "metadata": {},
   "outputs": [],
   "source": [
    "#pandas在numpy基础之上定义多个时间相关对象\n",
    "#Timestamp 时间对象，表示特定的一个时间点，如现在\n",
    "#Period 时期对象，表示一个时间段，2019年，2021年5月\n",
    "#Interval 该对象中包含起始时间对象和终止时间对象"
   ]
  },
  {
   "cell_type": "code",
   "execution_count": 11,
   "metadata": {},
   "outputs": [
    {
     "data": {
      "text/plain": [
       "Timestamp('2021-05-16 00:00:00')"
      ]
     },
     "execution_count": 11,
     "metadata": {},
     "output_type": "execute_result"
    }
   ],
   "source": [
    "#时间对象的创建\n",
    "#pd.to_datetime()可以接受各种时间格式字符串，也可以用datetime对象\n",
    "pd.to_datetime(\"2021/05/16\")"
   ]
  },
  {
   "cell_type": "code",
   "execution_count": 12,
   "metadata": {},
   "outputs": [
    {
     "data": {
      "text/plain": [
       "Timestamp('2012-10-01 10:30:20')"
      ]
     },
     "execution_count": 12,
     "metadata": {},
     "output_type": "execute_result"
    }
   ],
   "source": [
    "pd.to_datetime(datetime1)"
   ]
  },
  {
   "cell_type": "code",
   "execution_count": 14,
   "metadata": {},
   "outputs": [],
   "source": [
    "#pd.to_datetime()接受时间格式字符串列表, 返回一个时间序列DatetimeIndex\n",
    "times_index = pd.to_datetime([\"2012-5-1\",\"2013/5/3\",\"20120502\",\"2014-12-13\"])"
   ]
  },
  {
   "cell_type": "code",
   "execution_count": 15,
   "metadata": {},
   "outputs": [],
   "source": [
    "#创建使用时间序列的dataframe或series\n",
    "series1 = pd.Series([10,20,30,40],index=times_index)"
   ]
  },
  {
   "cell_type": "code",
   "execution_count": 18,
   "metadata": {},
   "outputs": [
    {
     "data": {
      "text/plain": [
       "2012-05-01    10\n",
       "2012-05-02    30\n",
       "dtype: int64"
      ]
     },
     "execution_count": 18,
     "metadata": {},
     "output_type": "execute_result"
    }
   ],
   "source": [
    "#好处： 可读性高了，索引数据时，可以使用时期进行模糊查询\n",
    "series1[\"2012-05\"]"
   ]
  },
  {
   "cell_type": "code",
   "execution_count": 19,
   "metadata": {},
   "outputs": [],
   "source": [
    "#astype转换时间序列\n",
    "# 使用美国某城市的2014年7月的温度数据\n",
    "weather_df = pd.read_csv(\"./data/sitka_weather_07-2014.csv\", usecols=[\"AKDT\",\"Max_TemperatureF\",\"Mean_TemperatureF\",\"Min_TemperatureF\"])\n"
   ]
  },
  {
   "cell_type": "code",
   "execution_count": 26,
   "metadata": {},
   "outputs": [],
   "source": [
    "#给weather_df增加一列，从AKDT转成了datetime64类型\n",
    "weather_df[\"date\"] = weather_df[\"AKDT\"].astype(np.datetime64)"
   ]
  },
  {
   "cell_type": "code",
   "execution_count": 28,
   "metadata": {},
   "outputs": [],
   "source": [
    "#date列作为索引\n",
    "weather_df.set_index(\"date\", inplace=True)"
   ]
  },
  {
   "cell_type": "code",
   "execution_count": 32,
   "metadata": {},
   "outputs": [
    {
     "data": {
      "text/html": [
       "<div>\n",
       "<style scoped>\n",
       "    .dataframe tbody tr th:only-of-type {\n",
       "        vertical-align: middle;\n",
       "    }\n",
       "\n",
       "    .dataframe tbody tr th {\n",
       "        vertical-align: top;\n",
       "    }\n",
       "\n",
       "    .dataframe thead th {\n",
       "        text-align: right;\n",
       "    }\n",
       "</style>\n",
       "<table border=\"1\" class=\"dataframe\">\n",
       "  <thead>\n",
       "    <tr style=\"text-align: right;\">\n",
       "      <th></th>\n",
       "      <th>AKDT</th>\n",
       "      <th>Max_TemperatureF</th>\n",
       "      <th>Mean_TemperatureF</th>\n",
       "      <th>Min_TemperatureF</th>\n",
       "    </tr>\n",
       "    <tr>\n",
       "      <th>date</th>\n",
       "      <th></th>\n",
       "      <th></th>\n",
       "      <th></th>\n",
       "      <th></th>\n",
       "    </tr>\n",
       "  </thead>\n",
       "  <tbody>\n",
       "    <tr>\n",
       "      <th>2014-07-10</th>\n",
       "      <td>2014-7-10</td>\n",
       "      <td>61</td>\n",
       "      <td>56</td>\n",
       "      <td>53</td>\n",
       "    </tr>\n",
       "    <tr>\n",
       "      <th>2014-07-11</th>\n",
       "      <td>2014-7-11</td>\n",
       "      <td>57</td>\n",
       "      <td>56</td>\n",
       "      <td>54</td>\n",
       "    </tr>\n",
       "    <tr>\n",
       "      <th>2014-07-12</th>\n",
       "      <td>2014-7-12</td>\n",
       "      <td>59</td>\n",
       "      <td>56</td>\n",
       "      <td>55</td>\n",
       "    </tr>\n",
       "    <tr>\n",
       "      <th>2014-07-13</th>\n",
       "      <td>2014-7-13</td>\n",
       "      <td>57</td>\n",
       "      <td>56</td>\n",
       "      <td>55</td>\n",
       "    </tr>\n",
       "    <tr>\n",
       "      <th>2014-07-14</th>\n",
       "      <td>2014-7-14</td>\n",
       "      <td>61</td>\n",
       "      <td>58</td>\n",
       "      <td>55</td>\n",
       "    </tr>\n",
       "    <tr>\n",
       "      <th>2014-07-15</th>\n",
       "      <td>2014-7-15</td>\n",
       "      <td>64</td>\n",
       "      <td>58</td>\n",
       "      <td>55</td>\n",
       "    </tr>\n",
       "    <tr>\n",
       "      <th>2014-07-16</th>\n",
       "      <td>2014-7-16</td>\n",
       "      <td>61</td>\n",
       "      <td>56</td>\n",
       "      <td>52</td>\n",
       "    </tr>\n",
       "    <tr>\n",
       "      <th>2014-07-17</th>\n",
       "      <td>2014-7-17</td>\n",
       "      <td>59</td>\n",
       "      <td>55</td>\n",
       "      <td>51</td>\n",
       "    </tr>\n",
       "    <tr>\n",
       "      <th>2014-07-18</th>\n",
       "      <td>2014-7-18</td>\n",
       "      <td>63</td>\n",
       "      <td>56</td>\n",
       "      <td>51</td>\n",
       "    </tr>\n",
       "    <tr>\n",
       "      <th>2014-07-19</th>\n",
       "      <td>2014-7-19</td>\n",
       "      <td>60</td>\n",
       "      <td>57</td>\n",
       "      <td>54</td>\n",
       "    </tr>\n",
       "  </tbody>\n",
       "</table>\n",
       "</div>"
      ],
      "text/plain": [
       "                 AKDT  Max_TemperatureF  Mean_TemperatureF  Min_TemperatureF\n",
       "date                                                                        \n",
       "2014-07-10  2014-7-10                61                 56                53\n",
       "2014-07-11  2014-7-11                57                 56                54\n",
       "2014-07-12  2014-7-12                59                 56                55\n",
       "2014-07-13  2014-7-13                57                 56                55\n",
       "2014-07-14  2014-7-14                61                 58                55\n",
       "2014-07-15  2014-7-15                64                 58                55\n",
       "2014-07-16  2014-7-16                61                 56                52\n",
       "2014-07-17  2014-7-17                59                 55                51\n",
       "2014-07-18  2014-7-18                63                 56                51\n",
       "2014-07-19  2014-7-19                60                 57                54"
      ]
     },
     "execution_count": 32,
     "metadata": {},
     "output_type": "execute_result"
    }
   ],
   "source": [
    "#使用truncate()截取记录集\n",
    "# before=a时间 表示截掉a时间之前的数据集，after=b时间，表示截掉b时间之后的数据集\n",
    "weather_df.truncate(before=\"2014-7-10\",after=\"2014-7-19\")\n",
    "# 使用布尔索引也能做"
   ]
  },
  {
   "cell_type": "code",
   "execution_count": 30,
   "metadata": {},
   "outputs": [
    {
     "data": {
      "text/plain": [
       "DatetimeIndex(['2014-07-01', '2014-07-02', '2014-07-03', '2014-07-04',\n",
       "               '2014-07-05', '2014-07-06', '2014-07-07', '2014-07-08',\n",
       "               '2014-07-09', '2014-07-10', '2014-07-11', '2014-07-12',\n",
       "               '2014-07-13', '2014-07-14', '2014-07-15', '2014-07-16',\n",
       "               '2014-07-17', '2014-07-18', '2014-07-19', '2014-07-20',\n",
       "               '2014-07-21', '2014-07-22', '2014-07-23', '2014-07-24',\n",
       "               '2014-07-25', '2014-07-26', '2014-07-27', '2014-07-28',\n",
       "               '2014-07-29', '2014-07-30', '2014-07-31'],\n",
       "              dtype='datetime64[ns]', name='date', freq=None)"
      ]
     },
     "execution_count": 30,
     "metadata": {},
     "output_type": "execute_result"
    }
   ],
   "source": [
    "weather_df.index"
   ]
  },
  {
   "cell_type": "code",
   "execution_count": 33,
   "metadata": {},
   "outputs": [
    {
     "data": {
      "text/plain": [
       "DatetimeIndex(['2012-01-01', '2012-01-02', '2012-01-03', '2012-01-04',\n",
       "               '2012-01-05', '2012-01-06', '2012-01-07', '2012-01-08',\n",
       "               '2012-01-09', '2012-01-10'],\n",
       "              dtype='datetime64[ns]', freq='D')"
      ]
     },
     "execution_count": 33,
     "metadata": {},
     "output_type": "execute_result"
    }
   ],
   "source": [
    "# 生成时间序列的其他方式\n",
    "# start=开始时间，end=结束时间，periods=个数，freq=频率 默认值为D，1天\n",
    "pd.date_range(start=\"2012-01-01\",periods=10)"
   ]
  },
  {
   "cell_type": "code",
   "execution_count": 34,
   "metadata": {},
   "outputs": [
    {
     "data": {
      "text/plain": [
       "DatetimeIndex(['2012-01-01', '2012-01-02', '2012-01-03', '2012-01-04',\n",
       "               '2012-01-05', '2012-01-06', '2012-01-07', '2012-01-08',\n",
       "               '2012-01-09', '2012-01-10'],\n",
       "              dtype='datetime64[ns]', freq='D')"
      ]
     },
     "execution_count": 34,
     "metadata": {},
     "output_type": "execute_result"
    }
   ],
   "source": [
    "pd.date_range(start=\"2012-01-01\",end=\"2012-01-10\")"
   ]
  },
  {
   "cell_type": "code",
   "execution_count": 35,
   "metadata": {},
   "outputs": [
    {
     "data": {
      "text/plain": [
       "DatetimeIndex(['2012-01-01 00:00:00', '2012-01-01 12:00:00',\n",
       "               '2012-01-02 00:00:00', '2012-01-02 12:00:00',\n",
       "               '2012-01-03 00:00:00', '2012-01-03 12:00:00',\n",
       "               '2012-01-04 00:00:00', '2012-01-04 12:00:00',\n",
       "               '2012-01-05 00:00:00', '2012-01-05 12:00:00'],\n",
       "              dtype='datetime64[ns]', freq='12H')"
      ]
     },
     "execution_count": 35,
     "metadata": {},
     "output_type": "execute_result"
    }
   ],
   "source": [
    "#认识freq \"D\"天、\"W\"周 \"M\"月,\"H\"小时 可以和数字配合使用 \"2D\"\n",
    "pd.date_range(start=\"2012-01-01\",periods=10, freq=\"12H\")"
   ]
  },
  {
   "cell_type": "code",
   "execution_count": 38,
   "metadata": {},
   "outputs": [
    {
     "data": {
      "text/plain": [
       "DatetimeIndex(['2012-01-01 00:00:00', '2012-01-09 12:00:00',\n",
       "               '2012-01-18 00:00:00', '2012-01-26 12:00:00',\n",
       "               '2012-02-04 00:00:00', '2012-02-12 12:00:00',\n",
       "               '2012-02-21 00:00:00', '2012-02-29 12:00:00',\n",
       "               '2012-03-09 00:00:00', '2012-03-17 12:00:00'],\n",
       "              dtype='datetime64[ns]', freq='204H')"
      ]
     },
     "execution_count": 38,
     "metadata": {},
     "output_type": "execute_result"
    }
   ],
   "source": [
    "#自定义频率，使用DateOffset 时间偏移量对象\n",
    "#创建DateOffset对象\n",
    "dateOffset1 = Week(1) + Day(1)+ Hour(12) #8天12小时的时间偏移量\n",
    "#使用自定义的时间偏移量\n",
    "pd.date_range(start=\"2012-01-01\",periods=10, freq=dateOffset1)"
   ]
  },
  {
   "cell_type": "code",
   "execution_count": 43,
   "metadata": {},
   "outputs": [],
   "source": [
    "#时期对象 Period 表示一个时间段\n",
    "#使用构造方法创建时间对象, 时期对象中有频率属性\n",
    "period1 = pd.Period(\"2019-7\", \"D\")"
   ]
  },
  {
   "cell_type": "code",
   "execution_count": 44,
   "metadata": {},
   "outputs": [
    {
     "data": {
      "text/plain": [
       "Period('2019-07-02', 'D')"
      ]
     },
     "execution_count": 44,
     "metadata": {},
     "output_type": "execute_result"
    }
   ],
   "source": [
    "#时期对象可以方便的进行标量运算\n",
    "period1 + 1"
   ]
  },
  {
   "cell_type": "code",
   "execution_count": 46,
   "metadata": {},
   "outputs": [
    {
     "data": {
      "text/plain": [
       "PeriodIndex(['2012-01', '2012-02', '2012-03', '2012-04', '2012-05', '2012-06',\n",
       "             '2012-07', '2012-08', '2012-09', '2012-10'],\n",
       "            dtype='period[M]', freq='M')"
      ]
     },
     "execution_count": 46,
     "metadata": {},
     "output_type": "execute_result"
    }
   ],
   "source": [
    "#使用pd.period_range创建时期时间序列 PeriodIndex\n",
    "#start=开始时期，end=结束时期，periods=个数，freq=频率 默认值为D，1天\n",
    "pd.period_range(start=\"2012-1\",periods=10, freq=\"M\")"
   ]
  },
  {
   "cell_type": "code",
   "execution_count": null,
   "metadata": {},
   "outputs": [],
   "source": [
    "#使用方式和DatetimeIndex几乎没有区别"
   ]
  },
  {
   "cell_type": "code",
   "execution_count": 48,
   "metadata": {},
   "outputs": [
    {
     "data": {
      "text/html": [
       "<div>\n",
       "<style scoped>\n",
       "    .dataframe tbody tr th:only-of-type {\n",
       "        vertical-align: middle;\n",
       "    }\n",
       "\n",
       "    .dataframe tbody tr th {\n",
       "        vertical-align: top;\n",
       "    }\n",
       "\n",
       "    .dataframe thead th {\n",
       "        text-align: right;\n",
       "    }\n",
       "</style>\n",
       "<table border=\"1\" class=\"dataframe\">\n",
       "  <thead>\n",
       "    <tr style=\"text-align: right;\">\n",
       "      <th></th>\n",
       "      <th>Max_TemperatureF</th>\n",
       "      <th>Mean_TemperatureF</th>\n",
       "      <th>Min_TemperatureF</th>\n",
       "    </tr>\n",
       "    <tr>\n",
       "      <th>date</th>\n",
       "      <th></th>\n",
       "      <th></th>\n",
       "      <th></th>\n",
       "    </tr>\n",
       "  </thead>\n",
       "  <tbody>\n",
       "    <tr>\n",
       "      <th>2014-07-01</th>\n",
       "      <td>67.5</td>\n",
       "      <td>59.0</td>\n",
       "      <td>52.5</td>\n",
       "    </tr>\n",
       "    <tr>\n",
       "      <th>2014-07-03</th>\n",
       "      <td>61.5</td>\n",
       "      <td>57.0</td>\n",
       "      <td>52.5</td>\n",
       "    </tr>\n",
       "    <tr>\n",
       "      <th>2014-07-05</th>\n",
       "      <td>65.5</td>\n",
       "      <td>58.5</td>\n",
       "      <td>52.5</td>\n",
       "    </tr>\n",
       "    <tr>\n",
       "      <th>2014-07-07</th>\n",
       "      <td>58.0</td>\n",
       "      <td>55.5</td>\n",
       "      <td>54.0</td>\n",
       "    </tr>\n",
       "    <tr>\n",
       "      <th>2014-07-09</th>\n",
       "      <td>59.0</td>\n",
       "      <td>55.5</td>\n",
       "      <td>53.0</td>\n",
       "    </tr>\n",
       "    <tr>\n",
       "      <th>2014-07-11</th>\n",
       "      <td>58.0</td>\n",
       "      <td>56.0</td>\n",
       "      <td>54.5</td>\n",
       "    </tr>\n",
       "    <tr>\n",
       "      <th>2014-07-13</th>\n",
       "      <td>59.0</td>\n",
       "      <td>57.0</td>\n",
       "      <td>55.0</td>\n",
       "    </tr>\n",
       "    <tr>\n",
       "      <th>2014-07-15</th>\n",
       "      <td>62.5</td>\n",
       "      <td>57.0</td>\n",
       "      <td>53.5</td>\n",
       "    </tr>\n",
       "    <tr>\n",
       "      <th>2014-07-17</th>\n",
       "      <td>61.0</td>\n",
       "      <td>55.5</td>\n",
       "      <td>51.0</td>\n",
       "    </tr>\n",
       "    <tr>\n",
       "      <th>2014-07-19</th>\n",
       "      <td>58.5</td>\n",
       "      <td>56.0</td>\n",
       "      <td>53.0</td>\n",
       "    </tr>\n",
       "    <tr>\n",
       "      <th>2014-07-21</th>\n",
       "      <td>66.0</td>\n",
       "      <td>59.5</td>\n",
       "      <td>53.5</td>\n",
       "    </tr>\n",
       "    <tr>\n",
       "      <th>2014-07-23</th>\n",
       "      <td>60.5</td>\n",
       "      <td>57.5</td>\n",
       "      <td>54.5</td>\n",
       "    </tr>\n",
       "    <tr>\n",
       "      <th>2014-07-25</th>\n",
       "      <td>57.0</td>\n",
       "      <td>55.0</td>\n",
       "      <td>53.0</td>\n",
       "    </tr>\n",
       "    <tr>\n",
       "      <th>2014-07-27</th>\n",
       "      <td>60.0</td>\n",
       "      <td>57.0</td>\n",
       "      <td>54.0</td>\n",
       "    </tr>\n",
       "    <tr>\n",
       "      <th>2014-07-29</th>\n",
       "      <td>61.0</td>\n",
       "      <td>56.5</td>\n",
       "      <td>52.5</td>\n",
       "    </tr>\n",
       "    <tr>\n",
       "      <th>2014-07-31</th>\n",
       "      <td>66.0</td>\n",
       "      <td>58.0</td>\n",
       "      <td>50.0</td>\n",
       "    </tr>\n",
       "  </tbody>\n",
       "</table>\n",
       "</div>"
      ],
      "text/plain": [
       "            Max_TemperatureF  Mean_TemperatureF  Min_TemperatureF\n",
       "date                                                             \n",
       "2014-07-01              67.5               59.0              52.5\n",
       "2014-07-03              61.5               57.0              52.5\n",
       "2014-07-05              65.5               58.5              52.5\n",
       "2014-07-07              58.0               55.5              54.0\n",
       "2014-07-09              59.0               55.5              53.0\n",
       "2014-07-11              58.0               56.0              54.5\n",
       "2014-07-13              59.0               57.0              55.0\n",
       "2014-07-15              62.5               57.0              53.5\n",
       "2014-07-17              61.0               55.5              51.0\n",
       "2014-07-19              58.5               56.0              53.0\n",
       "2014-07-21              66.0               59.5              53.5\n",
       "2014-07-23              60.5               57.5              54.5\n",
       "2014-07-25              57.0               55.0              53.0\n",
       "2014-07-27              60.0               57.0              54.0\n",
       "2014-07-29              61.0               56.5              52.5\n",
       "2014-07-31              66.0               58.0              50.0"
      ]
     },
     "execution_count": 48,
     "metadata": {},
     "output_type": "execute_result"
    }
   ],
   "source": [
    "#重采样 resample，对数据集进行处理\n",
    "#降采样 降低采样率 pd.resample(较粗粒度的频率).聚合函数() mean()\n",
    "#升采样 升高采样率 pd.resample(较细粒度的频率).插值函数() ffill使用前一个纪录数据来插值，bfill使用后一个纪录数据来插值\n",
    "weather_df.resample(\"2D\").mean()\n"
   ]
  },
  {
   "cell_type": "code",
   "execution_count": 50,
   "metadata": {},
   "outputs": [
    {
     "data": {
      "text/html": [
       "<div>\n",
       "<style scoped>\n",
       "    .dataframe tbody tr th:only-of-type {\n",
       "        vertical-align: middle;\n",
       "    }\n",
       "\n",
       "    .dataframe tbody tr th {\n",
       "        vertical-align: top;\n",
       "    }\n",
       "\n",
       "    .dataframe thead th {\n",
       "        text-align: right;\n",
       "    }\n",
       "</style>\n",
       "<table border=\"1\" class=\"dataframe\">\n",
       "  <thead>\n",
       "    <tr style=\"text-align: right;\">\n",
       "      <th></th>\n",
       "      <th>AKDT</th>\n",
       "      <th>Max_TemperatureF</th>\n",
       "      <th>Mean_TemperatureF</th>\n",
       "      <th>Min_TemperatureF</th>\n",
       "    </tr>\n",
       "    <tr>\n",
       "      <th>date</th>\n",
       "      <th></th>\n",
       "      <th></th>\n",
       "      <th></th>\n",
       "      <th></th>\n",
       "    </tr>\n",
       "  </thead>\n",
       "  <tbody>\n",
       "    <tr>\n",
       "      <th>2014-07-01 00:00:00</th>\n",
       "      <td>2014-7-1</td>\n",
       "      <td>64</td>\n",
       "      <td>56</td>\n",
       "      <td>50</td>\n",
       "    </tr>\n",
       "    <tr>\n",
       "      <th>2014-07-01 12:00:00</th>\n",
       "      <td>2014-7-1</td>\n",
       "      <td>64</td>\n",
       "      <td>56</td>\n",
       "      <td>50</td>\n",
       "    </tr>\n",
       "    <tr>\n",
       "      <th>2014-07-02 00:00:00</th>\n",
       "      <td>2014-7-2</td>\n",
       "      <td>71</td>\n",
       "      <td>62</td>\n",
       "      <td>55</td>\n",
       "    </tr>\n",
       "    <tr>\n",
       "      <th>2014-07-02 12:00:00</th>\n",
       "      <td>2014-7-2</td>\n",
       "      <td>71</td>\n",
       "      <td>62</td>\n",
       "      <td>55</td>\n",
       "    </tr>\n",
       "    <tr>\n",
       "      <th>2014-07-03 00:00:00</th>\n",
       "      <td>2014-7-3</td>\n",
       "      <td>64</td>\n",
       "      <td>58</td>\n",
       "      <td>53</td>\n",
       "    </tr>\n",
       "    <tr>\n",
       "      <th>...</th>\n",
       "      <td>...</td>\n",
       "      <td>...</td>\n",
       "      <td>...</td>\n",
       "      <td>...</td>\n",
       "    </tr>\n",
       "    <tr>\n",
       "      <th>2014-07-29 00:00:00</th>\n",
       "      <td>2014-7-29</td>\n",
       "      <td>61</td>\n",
       "      <td>56</td>\n",
       "      <td>51</td>\n",
       "    </tr>\n",
       "    <tr>\n",
       "      <th>2014-07-29 12:00:00</th>\n",
       "      <td>2014-7-29</td>\n",
       "      <td>61</td>\n",
       "      <td>56</td>\n",
       "      <td>51</td>\n",
       "    </tr>\n",
       "    <tr>\n",
       "      <th>2014-07-30 00:00:00</th>\n",
       "      <td>2014-7-30</td>\n",
       "      <td>61</td>\n",
       "      <td>57</td>\n",
       "      <td>54</td>\n",
       "    </tr>\n",
       "    <tr>\n",
       "      <th>2014-07-30 12:00:00</th>\n",
       "      <td>2014-7-30</td>\n",
       "      <td>61</td>\n",
       "      <td>57</td>\n",
       "      <td>54</td>\n",
       "    </tr>\n",
       "    <tr>\n",
       "      <th>2014-07-31 00:00:00</th>\n",
       "      <td>2014-7-31</td>\n",
       "      <td>66</td>\n",
       "      <td>58</td>\n",
       "      <td>50</td>\n",
       "    </tr>\n",
       "  </tbody>\n",
       "</table>\n",
       "<p>61 rows × 4 columns</p>\n",
       "</div>"
      ],
      "text/plain": [
       "                          AKDT  Max_TemperatureF  Mean_TemperatureF  \\\n",
       "date                                                                  \n",
       "2014-07-01 00:00:00   2014-7-1                64                 56   \n",
       "2014-07-01 12:00:00   2014-7-1                64                 56   \n",
       "2014-07-02 00:00:00   2014-7-2                71                 62   \n",
       "2014-07-02 12:00:00   2014-7-2                71                 62   \n",
       "2014-07-03 00:00:00   2014-7-3                64                 58   \n",
       "...                        ...               ...                ...   \n",
       "2014-07-29 00:00:00  2014-7-29                61                 56   \n",
       "2014-07-29 12:00:00  2014-7-29                61                 56   \n",
       "2014-07-30 00:00:00  2014-7-30                61                 57   \n",
       "2014-07-30 12:00:00  2014-7-30                61                 57   \n",
       "2014-07-31 00:00:00  2014-7-31                66                 58   \n",
       "\n",
       "                     Min_TemperatureF  \n",
       "date                                   \n",
       "2014-07-01 00:00:00                50  \n",
       "2014-07-01 12:00:00                50  \n",
       "2014-07-02 00:00:00                55  \n",
       "2014-07-02 12:00:00                55  \n",
       "2014-07-03 00:00:00                53  \n",
       "...                               ...  \n",
       "2014-07-29 00:00:00                51  \n",
       "2014-07-29 12:00:00                51  \n",
       "2014-07-30 00:00:00                54  \n",
       "2014-07-30 12:00:00                54  \n",
       "2014-07-31 00:00:00                50  \n",
       "\n",
       "[61 rows x 4 columns]"
      ]
     },
     "execution_count": 50,
     "metadata": {},
     "output_type": "execute_result"
    }
   ],
   "source": [
    "weather_df.resample(\"12H\").ffill()"
   ]
  }
 ],
 "metadata": {
  "kernelspec": {
   "display_name": "Python 3",
   "language": "python",
   "name": "python3"
  },
  "language_info": {
   "codemirror_mode": {
    "name": "ipython",
    "version": 3
   },
   "file_extension": ".py",
   "mimetype": "text/x-python",
   "name": "python",
   "nbconvert_exporter": "python",
   "pygments_lexer": "ipython3",
   "version": "3.8.5"
  }
 },
 "nbformat": 4,
 "nbformat_minor": 4
}
