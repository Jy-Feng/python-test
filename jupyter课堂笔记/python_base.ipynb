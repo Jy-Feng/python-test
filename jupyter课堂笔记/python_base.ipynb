{
 "cells": [
  {
   "cell_type": "code",
   "execution_count": 3,
   "metadata": {},
   "outputs": [
    {
     "name": "stdout",
     "output_type": "stream",
     "text": [
      "hello world\n"
     ]
    }
   ],
   "source": [
    "# alt+enter control+enter 快捷运行单元格里面的代码\n",
    "print(\"hello world\")\n"
   ]
  },
  {
   "cell_type": "code",
   "execution_count": 6,
   "metadata": {},
   "outputs": [],
   "source": [
    "# 定义变量\n",
    "# python是弱类型语言，赋值时python会做类型推导\n",
    "a = 1\n",
    "b = 1."
   ]
  },
  {
   "cell_type": "code",
   "execution_count": 82,
   "metadata": {},
   "outputs": [],
   "source": [
    "#数据类型 number数，string字符串\n",
    "#  列表list、 字典dict、 元组tuple(不可变列表)、 set 了解  不重复\n",
    "abc = \"abc\" # 使用双引号或者单引号定义一个字符串\n",
    "list1 = [1,2,3,4.0,\"list\"] #定义一个列表 顺序结构        List\n",
    "dict1 = {\"key1\":123, \"key2\":\"hello\"} # 为键值对key-value Map\n",
    "tuple1 = (1,2,3,6,8,9)"
   ]
  },
  {
   "cell_type": "code",
   "execution_count": 18,
   "metadata": {},
   "outputs": [
    {
     "name": "stdout",
     "output_type": "stream",
     "text": [
      "Help on built-in function print in module builtins:\n",
      "\n",
      "print(...)\n",
      "    print(value, ..., sep=' ', end='\\n', file=sys.stdout, flush=False)\n",
      "    \n",
      "    Prints the values to a stream, or to sys.stdout by default.\n",
      "    Optional keyword arguments:\n",
      "    file:  a file-like object (stream); defaults to the current sys.stdout.\n",
      "    sep:   string inserted between values, default a space.\n",
      "    end:   string appended after the last value, default a newline.\n",
      "    flush: whether to forcibly flush the stream.\n",
      "\n"
     ]
    },
    {
     "data": {
      "text/plain": [
       "int"
      ]
     },
     "execution_count": 18,
     "metadata": {},
     "output_type": "execute_result"
    }
   ],
   "source": [
    "# 全部（内置）函数\n",
    "# help()\n",
    "help(print)\n"
   ]
  },
  {
   "cell_type": "code",
   "execution_count": 23,
   "metadata": {},
   "outputs": [
    {
     "data": {
      "text/plain": [
       "str"
      ]
     },
     "execution_count": 23,
     "metadata": {},
     "output_type": "execute_result"
    }
   ],
   "source": [
    "# type()\n",
    "type(abc)"
   ]
  },
  {
   "cell_type": "code",
   "execution_count": 28,
   "metadata": {},
   "outputs": [
    {
     "data": {
      "text/plain": [
       "1"
      ]
     },
     "execution_count": 28,
     "metadata": {},
     "output_type": "execute_result"
    }
   ],
   "source": [
    "# 已知类型的变量，打.，然后按table键，开发环境会提示支持的方法\n",
    "#abc.count(\"a\")\n",
    "abc.index(\"b\")"
   ]
  },
  {
   "cell_type": "code",
   "execution_count": 55,
   "metadata": {},
   "outputs": [],
   "source": [
    "# 列表操作 查增删改\n",
    "list2 = [\"zhangsan\", \"lisi\", \"wangwu\", \"liuliu\"]\n"
   ]
  },
  {
   "cell_type": "code",
   "execution_count": 37,
   "metadata": {},
   "outputs": [
    {
     "data": {
      "text/plain": [
       "'wangwu'"
      ]
     },
     "execution_count": 37,
     "metadata": {},
     "output_type": "execute_result"
    }
   ],
   "source": [
    "# 通过索引值来查找列表中的元素， 支持负数索引值，倒着索引\n",
    "list2[-2]"
   ]
  },
  {
   "cell_type": "code",
   "execution_count": 38,
   "metadata": {},
   "outputs": [],
   "source": [
    "# 列表增加一个元素\n",
    "list2.append(\"wangmazi\") # 往列表末尾添加一个元素\n",
    "list2.insert(2, \"lisisi\") # 往列表特定位置添加一个元素"
   ]
  },
  {
   "cell_type": "code",
   "execution_count": 46,
   "metadata": {},
   "outputs": [],
   "source": [
    "# 列表删除一个元素操作\n",
    "del list2[2]\n",
    "list2.pop(4) # 通过索引来删除\n",
    "list2.remove(\"liuliu\") # 通过元素值来删除"
   ]
  },
  {
   "cell_type": "code",
   "execution_count": 48,
   "metadata": {},
   "outputs": [],
   "source": [
    "# 修改列表中的一个元素\n",
    "list1[0] = \"zhangsan1\""
   ]
  },
  {
   "cell_type": "code",
   "execution_count": 54,
   "metadata": {},
   "outputs": [
    {
     "data": {
      "text/plain": [
       "3"
      ]
     },
     "execution_count": 54,
     "metadata": {},
     "output_type": "execute_result"
    }
   ],
   "source": [
    "# 计算集合元素个数\n",
    "len(list2)  #len()计算"
   ]
  },
  {
   "cell_type": "code",
   "execution_count": 58,
   "metadata": {},
   "outputs": [],
   "source": [
    "# 对列表排序\n",
    "list3 = sorted(list2) # 返回排完序的新列表\n",
    "# 字符串排序规则， 挨个字符比较字母序大小，直到比较出大小为止"
   ]
  },
  {
   "cell_type": "code",
   "execution_count": 59,
   "metadata": {},
   "outputs": [
    {
     "data": {
      "text/plain": [
       "['lisi', 'liuliu', 'wangwu', 'zhangsan']"
      ]
     },
     "execution_count": 59,
     "metadata": {},
     "output_type": "execute_result"
    }
   ],
   "source": [
    "list3"
   ]
  },
  {
   "cell_type": "code",
   "execution_count": 62,
   "metadata": {},
   "outputs": [
    {
     "name": "stdout",
     "output_type": "stream",
     "text": [
      "lisi\n",
      "liuliu\n",
      "wangwu\n",
      "zhangsan\n",
      "zhangsan\n"
     ]
    }
   ],
   "source": [
    "#列表的遍历\n",
    "# for循环 python依靠代码的缩进来控制循环体的代码块\n",
    "\n",
    "for item in list3:\n",
    "    print(item)\n",
    "print(item)"
   ]
  },
  {
   "cell_type": "code",
   "execution_count": 66,
   "metadata": {},
   "outputs": [
    {
     "name": "stdout",
     "output_type": "stream",
     "text": [
      "1\n",
      "3\n"
     ]
    }
   ],
   "source": [
    "# range()方法 生成数字的类似列表\n",
    "#range(5) # 类似[0,1,2,3,4]\n",
    "# 实现了一个java语言中的for循环 for(int i=1;i<5;i++){}\n",
    "# range(start, end, step) 从start(默认0)开始，end结束，不包括end，每次累加step（默认1）\n",
    "for i in range(1,5,2):\n",
    "    print(i)"
   ]
  },
  {
   "cell_type": "code",
   "execution_count": 74,
   "metadata": {},
   "outputs": [
    {
     "data": {
      "text/plain": [
       "['lisi', 'wangwu']"
      ]
     },
     "execution_count": 74,
     "metadata": {},
     "output_type": "execute_result"
    }
   ],
   "source": [
    "# 列表的切片\n",
    "# list[start:end:step] 返回从索引值start开时，end结束（end不包含），step（步长）子列表\n",
    "list3[::2]"
   ]
  },
  {
   "cell_type": "code",
   "execution_count": 75,
   "metadata": {},
   "outputs": [],
   "source": [
    "# 使用list(\"字符串\")生成字符列表\n",
    "list4 = list(\"abcdf\")"
   ]
  },
  {
   "cell_type": "code",
   "execution_count": 79,
   "metadata": {},
   "outputs": [],
   "source": [
    "# 列表推导式\n",
    "list5 = [item+1 for item in range(5)]"
   ]
  },
  {
   "cell_type": "code",
   "execution_count": 80,
   "metadata": {},
   "outputs": [
    {
     "data": {
      "text/plain": [
       "[1, 2, 3, 4, 5]"
      ]
     },
     "execution_count": 80,
     "metadata": {},
     "output_type": "execute_result"
    }
   ],
   "source": [
    "# 常规方式生成列表\n",
    "list6 = []\n",
    "for item in range(5):\n",
    "    list6.append(item)"
   ]
  },
  {
   "cell_type": "code",
   "execution_count": 85,
   "metadata": {},
   "outputs": [
    {
     "data": {
      "text/plain": [
       "3"
      ]
     },
     "execution_count": 85,
     "metadata": {},
     "output_type": "execute_result"
    }
   ],
   "source": [
    "tuple1[2]"
   ]
  },
  {
   "cell_type": "code",
   "execution_count": 86,
   "metadata": {},
   "outputs": [],
   "source": [
    "# bool  java里面的boolean\n",
    "a = True\n",
    "b = False"
   ]
  },
  {
   "cell_type": "code",
   "execution_count": 101,
   "metadata": {},
   "outputs": [
    {
     "data": {
      "text/plain": [
       "False"
      ]
     },
     "execution_count": 101,
     "metadata": {},
     "output_type": "execute_result"
    }
   ],
   "source": [
    "# 算数运算符、逻辑运算符、赋值运算符、比较运算符\n",
    "# + - * / % **\n",
    "# and or not (& |位运算符 可以操作bool)\n",
    "# = += -= *= /= %= **=\n",
    "# == != > < >= <=\n",
    "#d+=3  # d = d+3\n",
    "(a and b) or a"
   ]
  },
  {
   "cell_type": "code",
   "execution_count": 106,
   "metadata": {},
   "outputs": [
    {
     "name": "stdout",
     "output_type": "stream",
     "text": [
      "b is False\n"
     ]
    }
   ],
   "source": [
    "# if语句\n",
    "# if 条件1\n",
    "#     代码块1   # 如果条件1为真，执行代码块1\n",
    "# elif 条件2\n",
    "#     代码块2   # 如果条件1为假，条件2为真，执行代码块2\n",
    "# else\n",
    "#     代码块3  # 如果条件1、2都为假，执行代码块3\n",
    "if b:\n",
    "    print(\"a is True!\")\n",
    "    print(\"123\")\n",
    "elif 1>2:\n",
    "    print(\"aaaaa\")\n",
    "else:\n",
    "    print(\"b is False\")"
   ]
  },
  {
   "cell_type": "code",
   "execution_count": 109,
   "metadata": {},
   "outputs": [
    {
     "name": "stdout",
     "output_type": "stream",
     "text": [
      "循环了1次\n",
      "循环了2次\n",
      "循环了4次\n",
      "循环了5次\n"
     ]
    }
   ],
   "source": [
    "# while语句\n",
    "# while 条件：\n",
    "#    代码块    # 条件为真，一直执行代码块\n",
    "# continue 跳过continue之后代码，继续下一次循环\n",
    "# break  结束循环\n",
    "n = 0\n",
    "while n<5:\n",
    "    n+=1\n",
    "    if n ==3:\n",
    "        continue\n",
    "    print(\"循环了\" + str(n) + \"次\")\n",
    "    "
   ]
  },
  {
   "cell_type": "code",
   "execution_count": 110,
   "metadata": {},
   "outputs": [
    {
     "name": "stdout",
     "output_type": "stream",
     "text": [
      "循环了1次\n",
      "循环了2次\n"
     ]
    }
   ],
   "source": [
    "n = 0\n",
    "while n<5:\n",
    "    n+=1\n",
    "    if n ==3:\n",
    "        break\n",
    "    print(\"循环了\" + str(n) + \"次\")"
   ]
  },
  {
   "cell_type": "code",
   "execution_count": 113,
   "metadata": {},
   "outputs": [],
   "source": [
    "# 字典dict的操作\n",
    "dict2 = {\"name\":\"zhangsan\", \"age\":18, \"married\":False}"
   ]
  },
  {
   "cell_type": "code",
   "execution_count": 114,
   "metadata": {},
   "outputs": [
    {
     "data": {
      "text/plain": [
       "'zhangsan'"
      ]
     },
     "execution_count": 114,
     "metadata": {},
     "output_type": "execute_result"
    }
   ],
   "source": [
    "# 字典查 通过key键查value值\n",
    "dict2[\"name\"]"
   ]
  },
  {
   "cell_type": "code",
   "execution_count": 115,
   "metadata": {},
   "outputs": [],
   "source": [
    "# 字典增加一个键值对\n",
    "dict2[\"address\"] = \"成都\""
   ]
  },
  {
   "cell_type": "code",
   "execution_count": null,
   "metadata": {},
   "outputs": [],
   "source": [
    "# 字典修改一个key对应的值"
   ]
  },
  {
   "cell_type": "code",
   "execution_count": 117,
   "metadata": {},
   "outputs": [],
   "source": [
    "dict2[\"name\"] = \"lisi\""
   ]
  },
  {
   "cell_type": "code",
   "execution_count": 119,
   "metadata": {},
   "outputs": [],
   "source": [
    "# 删除字典的某个键值对\n",
    "del dict2[\"address\"]"
   ]
  },
  {
   "cell_type": "code",
   "execution_count": 121,
   "metadata": {},
   "outputs": [
    {
     "data": {
      "text/plain": [
       "18"
      ]
     },
     "execution_count": 121,
     "metadata": {},
     "output_type": "execute_result"
    }
   ],
   "source": [
    "dict2.pop(\"age\")"
   ]
  },
  {
   "cell_type": "code",
   "execution_count": 122,
   "metadata": {},
   "outputs": [
    {
     "data": {
      "text/plain": [
       "{'name': 'lisi', 'married': False}"
      ]
     },
     "execution_count": 122,
     "metadata": {},
     "output_type": "execute_result"
    }
   ],
   "source": [
    "dict3 = {} # 创建一个空字典\n"
   ]
  },
  {
   "cell_type": "code",
   "execution_count": 126,
   "metadata": {},
   "outputs": [
    {
     "name": "stdout",
     "output_type": "stream",
     "text": [
      "name:lisi\n",
      "married:False\n"
     ]
    }
   ],
   "source": [
    "# 字典的遍历 类比java中的Map集合\n",
    "# 遍历字典的键的集合\n",
    "for key in dict2.keys():\n",
    "    print(key+\":\" + str(dict2[key]))"
   ]
  },
  {
   "cell_type": "code",
   "execution_count": 128,
   "metadata": {
    "scrolled": true
   },
   "outputs": [
    {
     "name": "stdout",
     "output_type": "stream",
     "text": [
      "lisi\n",
      "False\n"
     ]
    }
   ],
   "source": [
    "# 遍历字典的值的集合\n",
    "for value in dict2.values():\n",
    "    print(value)"
   ]
  },
  {
   "cell_type": "code",
   "execution_count": 131,
   "metadata": {},
   "outputs": [
    {
     "name": "stdout",
     "output_type": "stream",
     "text": [
      "name:lisi\n",
      "married:False\n"
     ]
    }
   ],
   "source": [
    "# 遍历字典的键值对\n",
    "for key,value in dict2.items():\n",
    "    print(key + \":\"+ str(value))"
   ]
  },
  {
   "cell_type": "code",
   "execution_count": 129,
   "metadata": {},
   "outputs": [
    {
     "data": {
      "text/plain": [
       "dict_items([('name', 'lisi'), ('married', False)])"
      ]
     },
     "execution_count": 129,
     "metadata": {},
     "output_type": "execute_result"
    }
   ],
   "source": [
    "dict2.items()"
   ]
  },
  {
   "cell_type": "code",
   "execution_count": 133,
   "metadata": {},
   "outputs": [
    {
     "name": "stdout",
     "output_type": "stream",
     "text": [
      "123 456\n"
     ]
    }
   ],
   "source": [
    "# print方法，end参数指定结束符，默认值是换行符\n",
    "print(\"123\", end=\" \")\n",
    "print(\"456\")"
   ]
  },
  {
   "cell_type": "code",
   "execution_count": null,
   "metadata": {},
   "outputs": [],
   "source": [
    "#练习：打印九九乘法表"
   ]
  },
  {
   "cell_type": "markdown",
   "metadata": {},
   "source": [
    "### markdown 显示一个标题"
   ]
  },
  {
   "cell_type": "code",
   "execution_count": null,
   "metadata": {},
   "outputs": [],
   "source": []
  },
  {
   "cell_type": "code",
   "execution_count": null,
   "metadata": {},
   "outputs": [],
   "source": [
    "# 命令模式下，按A在当前单元格上面生成一个新单元格\n",
    "# 命令模式下，按B在当前单元格下面生成一个新单元格\n",
    "# 命令模式下，按两次D 删除当前选中的单元格"
   ]
  },
  {
   "cell_type": "code",
   "execution_count": null,
   "metadata": {},
   "outputs": [],
   "source": []
  }
 ],
 "metadata": {
  "kernelspec": {
   "display_name": "Python 3",
   "language": "python",
   "name": "python3"
  },
  "language_info": {
   "codemirror_mode": {
    "name": "ipython",
    "version": 3
   },
   "file_extension": ".py",
   "mimetype": "text/x-python",
   "name": "python",
   "nbconvert_exporter": "python",
   "pygments_lexer": "ipython3",
   "version": "3.8.5"
  }
 },
 "nbformat": 4,
 "nbformat_minor": 4
}
